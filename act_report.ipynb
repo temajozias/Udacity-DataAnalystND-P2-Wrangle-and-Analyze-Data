{
 "cells": [
  {
   "cell_type": "markdown",
   "metadata": {},
   "source": [
    "## Report: act_report\n",
    "* Create a **250-word-minimum written report** called \"act_report.pdf\" or \"act_report.html\" that communicates the insights and displays the visualization(s) produced from your wrangled data. This is to be framed as an external document, like a blog post or magazine article, for example."
   ]
  },
  {
   "cell_type": "markdown",
   "metadata": {},
   "source": [
    "### Insight 1.There are more tweets from Iphone than other platforms."
   ]
  },
  {
   "cell_type": "markdown",
   "metadata": {},
   "source": [
    "We notcied that the most used platform for tweets is **Iphone** and there is an explanation for this: @WeRateDogs account is located in United States of America and the first audience of accounts are the most closest community. We can say that the account has been followed by many americans first before expanding to other countries. The **Apple, Inc** company has conquered the local market, means that most americans users have an Iphone."
   ]
  },
  {
   "cell_type": "markdown",
   "metadata": {},
   "source": [
    "### Insight 2.The most used rating numerator note is `12`."
   ]
  },
  {
   "cell_type": "markdown",
   "metadata": {},
   "source": [
    "Most the dogs are rated 12. Looks like `There are good dogs` more than we can ever imagine. Even though there are rating notes under 10, we can argue that our wrangling efforts have not been made without errors because *\"the rating numerators are greater than the denominators does not need to be cleaned. This [unique rating system](http://knowyourmeme.com/memes/theyre-good-dogs-brent) is a big part of the popularity of WeRateDogs.\"* So it can be considered as error every rating numerator under 10. Hopefully, these errors aren't many and we could process our analysis without big troubles. "
   ]
  },
  {
   "cell_type": "markdown",
   "metadata": {},
   "source": [
    "### Insight 3.There is a high correlation between `retweet_count` and `favorite_count`"
   ]
  },
  {
   "cell_type": "markdown",
   "metadata": {},
   "source": [
    "We noticed in our analysing effortsthat there is a high correlation between `retweet_count` and `favorite_count` over `0.90`. This means that the more an tweet is retweeted, the more it can get liked as `favorite` because when someone retweet, it makes the tweet available for his audience and most of his audience like it and retweet it again and aigain and so on."
   ]
  }
 ],
 "metadata": {
  "kernelspec": {
   "display_name": "Python 3 (ipykernel)",
   "language": "python",
   "name": "python3"
  },
  "language_info": {
   "codemirror_mode": {
    "name": "ipython",
    "version": 3
   },
   "file_extension": ".py",
   "mimetype": "text/x-python",
   "name": "python",
   "nbconvert_exporter": "python",
   "pygments_lexer": "ipython3",
   "version": "3.10.4"
  }
 },
 "nbformat": 4,
 "nbformat_minor": 4
}
