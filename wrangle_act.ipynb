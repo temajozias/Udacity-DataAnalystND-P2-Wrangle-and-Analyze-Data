{
 "cells": [
  {
   "cell_type": "markdown",
   "id": "ffff8dd7-5e36-41aa-af7b-448560a4bdcd",
   "metadata": {
    "tags": []
   },
   "source": [
    "# Project 2: Wrangle and Analyze Data\n",
    "\n",
    "Gather data from a variety of sources and in a variety of formats, assess its quality and tidiness, then clean it. Showcase your wrangling efforts through analyses and visualizations."
   ]
  },
  {
   "cell_type": "code",
   "execution_count": 1,
   "id": "fd41662e-0cc3-4d35-bd24-e7c9d8488f6d",
   "metadata": {},
   "outputs": [],
   "source": [
    "import tweepy\n",
    "import requests\n",
    "import numpy as np\n",
    "import pandas as pd\n",
    "import seaborn as sns\n",
    "import matplotlib.pyplot as plt\n",
    "import os\n",
    "import json\n",
    "%matplotlib inline"
   ]
  },
  {
   "cell_type": "markdown",
   "id": "6c4f0fcd-ce1f-41d0-9645-4d25395a8614",
   "metadata": {
    "tags": []
   },
   "source": [
    "## Step 1: Gathering Data"
   ]
  },
  {
   "cell_type": "markdown",
   "id": "9e4132a6-209b-4ba9-8395-556c718dc5e8",
   "metadata": {},
   "source": [
    "In this step, you will gather all three pieces of data as described below in the \"Data Gathering\" section in the wrangle_act.ipynb notebook.\n",
    "\n",
    "In the cells below, gather **all** three pieces of data for this project and load them in the notebook. \n",
    "\n",
    "**Note:** the methods required to gather each data are different."
   ]
  },
  {
   "cell_type": "markdown",
   "id": "7643f78f-7ee4-4c5a-8c80-3e8e426de1dd",
   "metadata": {
    "tags": []
   },
   "source": [
    "### 1. The WeRateDogs Twitter archive"
   ]
  },
  {
   "cell_type": "markdown",
   "id": "07d22814-e35a-451d-9b25-7c319489b49f",
   "metadata": {},
   "source": [
    "1. Directly download the WeRateDogs Twitter archive data (twitter_archive_enhanced.csv)"
   ]
  },
  {
   "cell_type": "code",
   "execution_count": 2,
   "id": "e64a08fa-ec4e-4d0d-a684-d65c8f6d20a2",
   "metadata": {},
   "outputs": [],
   "source": [
    "twitter_archive_enhanced = pd.read_csv('twitter-archive-enhanced.csv')"
   ]
  },
  {
   "cell_type": "markdown",
   "id": "845ebddd-bf01-44ad-800b-4cbae70b2b5f",
   "metadata": {
    "tags": []
   },
   "source": [
    "### 2. The tweet image predictions"
   ]
  },
  {
   "cell_type": "markdown",
   "id": "f05e7c97-a4d4-43ee-b07f-59c79e4590ee",
   "metadata": {},
   "source": [
    "2. Use the Requests library to download the tweet image prediction (image_predictions.tsv)"
   ]
  },
  {
   "cell_type": "code",
   "execution_count": 3,
   "id": "04263026-d89e-4683-9c8e-19183a086411",
   "metadata": {},
   "outputs": [],
   "source": [
    "# Setting the URL of the file to download\n",
    "url = 'https://d17h27t6h515a5.cloudfront.net/topher/2017/August/599fd2ad_image-predictions/image-predictions.tsv'\n",
    "if not os.path.exists(url.split('/')[-1]):\n",
    "    # Downloading the file with requests\n",
    "    response = requests.get(url)\n",
    "    # Saving the file\n",
    "    with open(url.split('/')[-1], mode='wb') as file:\n",
    "        file.write(response.content)    \n"
   ]
  },
  {
   "cell_type": "code",
   "execution_count": 4,
   "id": "3e73a5e3-81a9-43c5-ae96-9a173f1379b7",
   "metadata": {},
   "outputs": [],
   "source": [
    "image_predictions = pd.read_csv('image-predictions.tsv', sep='\\t')"
   ]
  },
  {
   "cell_type": "markdown",
   "id": "e0c155d8-4ebb-4bf0-8908-ced5afe0f49a",
   "metadata": {
    "tags": []
   },
   "source": [
    "### 3. Additional data from the Twitter API"
   ]
  },
  {
   "cell_type": "markdown",
   "id": "1701483d-615d-438e-9357-c91c84d40d41",
   "metadata": {},
   "source": [
    "3. Use the Tweepy library to query additional data via the Twitter API (tweet_json.txt)"
   ]
  },
  {
   "cell_type": "code",
   "execution_count": 5,
   "id": "2e6a2d3f-abd2-4be3-b11e-7bf19ff6b166",
   "metadata": {},
   "outputs": [],
   "source": [
    "api_file = 'https://video.udacity-data.com/topher/2018/November/5be5fb4c_twitter-api/twitter-api.py'\n",
    "json_file = 'https://video.udacity-data.com/topher/2018/November/5be5fb7d_tweet-json/tweet-json.txt'\n",
    "\n",
    "# Retrieving the twitter-api.py file\n",
    "url = api_file\n",
    "if not os.path.exists(url.split('/')[-1]):\n",
    "    # Downloading the file with requests\n",
    "    response = requests.get(url)\n",
    "    # Saving the file\n",
    "    with open(url.split('/')[-1], mode='wb') as file:\n",
    "        file.write(response.content)    \n",
    "\n",
    "# Retrieving the tweet-json.txt file\n",
    "url = json_file\n",
    "if not os.path.exists(url.split('/')[-1]):\n",
    "    # Downloading the file with requests\n",
    "    response = requests.get(url)\n",
    "    # Saving the file\n",
    "    with open(url.split('/')[-1], mode='wb') as file:\n",
    "        file.write(response.content)    "
   ]
  },
  {
   "cell_type": "markdown",
   "id": "3040f5d6-c8df-4de6-b98f-f57a23e67c01",
   "metadata": {},
   "source": [
    "Help source:\n",
    "\n",
    "- [how-to-solve-python-jsondecodeerror-extra-data](https://researchdatapod.com/how-to-solve-python-jsondecodeerror-extra-data/)"
   ]
  },
  {
   "cell_type": "code",
   "execution_count": 6,
   "id": "c917621d-4ef9-41dc-a4aa-ea589d57f8a0",
   "metadata": {},
   "outputs": [],
   "source": [
    "data = [json.loads(line) for line in open('tweet-json.txt', encoding='utf-8', mode='r')]"
   ]
  },
  {
   "cell_type": "code",
   "execution_count": 7,
   "id": "ae8c7740-8f53-47ab-8083-3a06c40186e9",
   "metadata": {},
   "outputs": [],
   "source": [
    "# Creating a list of selected elements of the tweet-json.txt\n",
    "def get_expanded_url(element):\n",
    "    try:\n",
    "        result = element['entities']['media'][0]['expanded_url'] if element['entities']['media'][0]['expanded_url'] else None\n",
    "    except:\n",
    "        result = None\n",
    "    return result\n",
    "\n",
    "list_df = [{'tweet_id':elt['id_str'],\n",
    "           'created_at':elt['created_at'],\n",
    "           'full_text':elt['full_text'],\n",
    "           'retweet_count':elt['retweet_count'],\n",
    "           'favorite_count':elt['favorite_count'],\n",
    "           'expanded_urls':get_expanded_url(elt),\n",
    "           'source':elt['source']}\n",
    "          for elt in data]"
   ]
  },
  {
   "cell_type": "code",
   "execution_count": 8,
   "id": "594c4eab-ee2c-456e-8412-de1c40fd217c",
   "metadata": {},
   "outputs": [],
   "source": [
    "# Converting to a dataframe\n",
    "twitter_archive_from_api = pd.DataFrame(list_df, columns=['tweet_id',\n",
    "                                         'created_at',\n",
    "                                         'full_text',\n",
    "                                         'retweet_count',\n",
    "                                         'favorite_count',\n",
    "                                         'expanded_urls',\n",
    "                                         'source'])"
   ]
  },
  {
   "cell_type": "code",
   "execution_count": 9,
   "id": "efc43930-92e4-43ed-b4b4-aa806f59089f",
   "metadata": {},
   "outputs": [],
   "source": [
    "twitter_archive_from_api.to_csv('twitter_archive_from_api.csv', index=False)"
   ]
  },
  {
   "cell_type": "markdown",
   "id": "5e428278-4b13-4c32-a3ac-68f8d4bca445",
   "metadata": {
    "tags": []
   },
   "source": [
    "### 4. Displaying head and basic info of three dataframes"
   ]
  },
  {
   "cell_type": "code",
   "execution_count": 10,
   "id": "5013c555-438e-46e4-8aa2-64bb82ab0b8e",
   "metadata": {
    "tags": []
   },
   "outputs": [
    {
     "data": {
      "text/html": [
       "<div>\n",
       "<style scoped>\n",
       "    .dataframe tbody tr th:only-of-type {\n",
       "        vertical-align: middle;\n",
       "    }\n",
       "\n",
       "    .dataframe tbody tr th {\n",
       "        vertical-align: top;\n",
       "    }\n",
       "\n",
       "    .dataframe thead th {\n",
       "        text-align: right;\n",
       "    }\n",
       "</style>\n",
       "<table border=\"1\" class=\"dataframe\">\n",
       "  <thead>\n",
       "    <tr style=\"text-align: right;\">\n",
       "      <th></th>\n",
       "      <th>tweet_id</th>\n",
       "      <th>in_reply_to_status_id</th>\n",
       "      <th>in_reply_to_user_id</th>\n",
       "      <th>timestamp</th>\n",
       "      <th>source</th>\n",
       "      <th>text</th>\n",
       "      <th>retweeted_status_id</th>\n",
       "      <th>retweeted_status_user_id</th>\n",
       "      <th>retweeted_status_timestamp</th>\n",
       "      <th>expanded_urls</th>\n",
       "      <th>rating_numerator</th>\n",
       "      <th>rating_denominator</th>\n",
       "      <th>name</th>\n",
       "      <th>doggo</th>\n",
       "      <th>floofer</th>\n",
       "      <th>pupper</th>\n",
       "      <th>puppo</th>\n",
       "    </tr>\n",
       "  </thead>\n",
       "  <tbody>\n",
       "    <tr>\n",
       "      <th>0</th>\n",
       "      <td>892420643555336193</td>\n",
       "      <td>NaN</td>\n",
       "      <td>NaN</td>\n",
       "      <td>2017-08-01 16:23:56 +0000</td>\n",
       "      <td>&lt;a href=\"http://twitter.com/download/iphone\" r...</td>\n",
       "      <td>This is Phineas. He's a mystical boy. Only eve...</td>\n",
       "      <td>NaN</td>\n",
       "      <td>NaN</td>\n",
       "      <td>NaN</td>\n",
       "      <td>https://twitter.com/dog_rates/status/892420643...</td>\n",
       "      <td>13</td>\n",
       "      <td>10</td>\n",
       "      <td>Phineas</td>\n",
       "      <td>None</td>\n",
       "      <td>None</td>\n",
       "      <td>None</td>\n",
       "      <td>None</td>\n",
       "    </tr>\n",
       "    <tr>\n",
       "      <th>1</th>\n",
       "      <td>892177421306343426</td>\n",
       "      <td>NaN</td>\n",
       "      <td>NaN</td>\n",
       "      <td>2017-08-01 00:17:27 +0000</td>\n",
       "      <td>&lt;a href=\"http://twitter.com/download/iphone\" r...</td>\n",
       "      <td>This is Tilly. She's just checking pup on you....</td>\n",
       "      <td>NaN</td>\n",
       "      <td>NaN</td>\n",
       "      <td>NaN</td>\n",
       "      <td>https://twitter.com/dog_rates/status/892177421...</td>\n",
       "      <td>13</td>\n",
       "      <td>10</td>\n",
       "      <td>Tilly</td>\n",
       "      <td>None</td>\n",
       "      <td>None</td>\n",
       "      <td>None</td>\n",
       "      <td>None</td>\n",
       "    </tr>\n",
       "    <tr>\n",
       "      <th>2</th>\n",
       "      <td>891815181378084864</td>\n",
       "      <td>NaN</td>\n",
       "      <td>NaN</td>\n",
       "      <td>2017-07-31 00:18:03 +0000</td>\n",
       "      <td>&lt;a href=\"http://twitter.com/download/iphone\" r...</td>\n",
       "      <td>This is Archie. He is a rare Norwegian Pouncin...</td>\n",
       "      <td>NaN</td>\n",
       "      <td>NaN</td>\n",
       "      <td>NaN</td>\n",
       "      <td>https://twitter.com/dog_rates/status/891815181...</td>\n",
       "      <td>12</td>\n",
       "      <td>10</td>\n",
       "      <td>Archie</td>\n",
       "      <td>None</td>\n",
       "      <td>None</td>\n",
       "      <td>None</td>\n",
       "      <td>None</td>\n",
       "    </tr>\n",
       "    <tr>\n",
       "      <th>3</th>\n",
       "      <td>891689557279858688</td>\n",
       "      <td>NaN</td>\n",
       "      <td>NaN</td>\n",
       "      <td>2017-07-30 15:58:51 +0000</td>\n",
       "      <td>&lt;a href=\"http://twitter.com/download/iphone\" r...</td>\n",
       "      <td>This is Darla. She commenced a snooze mid meal...</td>\n",
       "      <td>NaN</td>\n",
       "      <td>NaN</td>\n",
       "      <td>NaN</td>\n",
       "      <td>https://twitter.com/dog_rates/status/891689557...</td>\n",
       "      <td>13</td>\n",
       "      <td>10</td>\n",
       "      <td>Darla</td>\n",
       "      <td>None</td>\n",
       "      <td>None</td>\n",
       "      <td>None</td>\n",
       "      <td>None</td>\n",
       "    </tr>\n",
       "    <tr>\n",
       "      <th>4</th>\n",
       "      <td>891327558926688256</td>\n",
       "      <td>NaN</td>\n",
       "      <td>NaN</td>\n",
       "      <td>2017-07-29 16:00:24 +0000</td>\n",
       "      <td>&lt;a href=\"http://twitter.com/download/iphone\" r...</td>\n",
       "      <td>This is Franklin. He would like you to stop ca...</td>\n",
       "      <td>NaN</td>\n",
       "      <td>NaN</td>\n",
       "      <td>NaN</td>\n",
       "      <td>https://twitter.com/dog_rates/status/891327558...</td>\n",
       "      <td>12</td>\n",
       "      <td>10</td>\n",
       "      <td>Franklin</td>\n",
       "      <td>None</td>\n",
       "      <td>None</td>\n",
       "      <td>None</td>\n",
       "      <td>None</td>\n",
       "    </tr>\n",
       "  </tbody>\n",
       "</table>\n",
       "</div>"
      ],
      "text/plain": [
       "             tweet_id  in_reply_to_status_id  in_reply_to_user_id  \\\n",
       "0  892420643555336193                    NaN                  NaN   \n",
       "1  892177421306343426                    NaN                  NaN   \n",
       "2  891815181378084864                    NaN                  NaN   \n",
       "3  891689557279858688                    NaN                  NaN   \n",
       "4  891327558926688256                    NaN                  NaN   \n",
       "\n",
       "                   timestamp  \\\n",
       "0  2017-08-01 16:23:56 +0000   \n",
       "1  2017-08-01 00:17:27 +0000   \n",
       "2  2017-07-31 00:18:03 +0000   \n",
       "3  2017-07-30 15:58:51 +0000   \n",
       "4  2017-07-29 16:00:24 +0000   \n",
       "\n",
       "                                              source  \\\n",
       "0  <a href=\"http://twitter.com/download/iphone\" r...   \n",
       "1  <a href=\"http://twitter.com/download/iphone\" r...   \n",
       "2  <a href=\"http://twitter.com/download/iphone\" r...   \n",
       "3  <a href=\"http://twitter.com/download/iphone\" r...   \n",
       "4  <a href=\"http://twitter.com/download/iphone\" r...   \n",
       "\n",
       "                                                text  retweeted_status_id  \\\n",
       "0  This is Phineas. He's a mystical boy. Only eve...                  NaN   \n",
       "1  This is Tilly. She's just checking pup on you....                  NaN   \n",
       "2  This is Archie. He is a rare Norwegian Pouncin...                  NaN   \n",
       "3  This is Darla. She commenced a snooze mid meal...                  NaN   \n",
       "4  This is Franklin. He would like you to stop ca...                  NaN   \n",
       "\n",
       "   retweeted_status_user_id retweeted_status_timestamp  \\\n",
       "0                       NaN                        NaN   \n",
       "1                       NaN                        NaN   \n",
       "2                       NaN                        NaN   \n",
       "3                       NaN                        NaN   \n",
       "4                       NaN                        NaN   \n",
       "\n",
       "                                       expanded_urls  rating_numerator  \\\n",
       "0  https://twitter.com/dog_rates/status/892420643...                13   \n",
       "1  https://twitter.com/dog_rates/status/892177421...                13   \n",
       "2  https://twitter.com/dog_rates/status/891815181...                12   \n",
       "3  https://twitter.com/dog_rates/status/891689557...                13   \n",
       "4  https://twitter.com/dog_rates/status/891327558...                12   \n",
       "\n",
       "   rating_denominator      name doggo floofer pupper puppo  \n",
       "0                  10   Phineas  None    None   None  None  \n",
       "1                  10     Tilly  None    None   None  None  \n",
       "2                  10    Archie  None    None   None  None  \n",
       "3                  10     Darla  None    None   None  None  \n",
       "4                  10  Franklin  None    None   None  None  "
      ]
     },
     "execution_count": 10,
     "metadata": {},
     "output_type": "execute_result"
    }
   ],
   "source": [
    "twitter_archive_enhanced.head()"
   ]
  },
  {
   "cell_type": "code",
   "execution_count": 11,
   "id": "8392293d-8121-4467-b281-6283c9ddf8b7",
   "metadata": {},
   "outputs": [
    {
     "data": {
      "text/html": [
       "<div>\n",
       "<style scoped>\n",
       "    .dataframe tbody tr th:only-of-type {\n",
       "        vertical-align: middle;\n",
       "    }\n",
       "\n",
       "    .dataframe tbody tr th {\n",
       "        vertical-align: top;\n",
       "    }\n",
       "\n",
       "    .dataframe thead th {\n",
       "        text-align: right;\n",
       "    }\n",
       "</style>\n",
       "<table border=\"1\" class=\"dataframe\">\n",
       "  <thead>\n",
       "    <tr style=\"text-align: right;\">\n",
       "      <th></th>\n",
       "      <th>tweet_id</th>\n",
       "      <th>jpg_url</th>\n",
       "      <th>img_num</th>\n",
       "      <th>p1</th>\n",
       "      <th>p1_conf</th>\n",
       "      <th>p1_dog</th>\n",
       "      <th>p2</th>\n",
       "      <th>p2_conf</th>\n",
       "      <th>p2_dog</th>\n",
       "      <th>p3</th>\n",
       "      <th>p3_conf</th>\n",
       "      <th>p3_dog</th>\n",
       "    </tr>\n",
       "  </thead>\n",
       "  <tbody>\n",
       "    <tr>\n",
       "      <th>0</th>\n",
       "      <td>666020888022790149</td>\n",
       "      <td>https://pbs.twimg.com/media/CT4udn0WwAA0aMy.jpg</td>\n",
       "      <td>1</td>\n",
       "      <td>Welsh_springer_spaniel</td>\n",
       "      <td>0.465074</td>\n",
       "      <td>True</td>\n",
       "      <td>collie</td>\n",
       "      <td>0.156665</td>\n",
       "      <td>True</td>\n",
       "      <td>Shetland_sheepdog</td>\n",
       "      <td>0.061428</td>\n",
       "      <td>True</td>\n",
       "    </tr>\n",
       "    <tr>\n",
       "      <th>1</th>\n",
       "      <td>666029285002620928</td>\n",
       "      <td>https://pbs.twimg.com/media/CT42GRgUYAA5iDo.jpg</td>\n",
       "      <td>1</td>\n",
       "      <td>redbone</td>\n",
       "      <td>0.506826</td>\n",
       "      <td>True</td>\n",
       "      <td>miniature_pinscher</td>\n",
       "      <td>0.074192</td>\n",
       "      <td>True</td>\n",
       "      <td>Rhodesian_ridgeback</td>\n",
       "      <td>0.072010</td>\n",
       "      <td>True</td>\n",
       "    </tr>\n",
       "    <tr>\n",
       "      <th>2</th>\n",
       "      <td>666033412701032449</td>\n",
       "      <td>https://pbs.twimg.com/media/CT4521TWwAEvMyu.jpg</td>\n",
       "      <td>1</td>\n",
       "      <td>German_shepherd</td>\n",
       "      <td>0.596461</td>\n",
       "      <td>True</td>\n",
       "      <td>malinois</td>\n",
       "      <td>0.138584</td>\n",
       "      <td>True</td>\n",
       "      <td>bloodhound</td>\n",
       "      <td>0.116197</td>\n",
       "      <td>True</td>\n",
       "    </tr>\n",
       "    <tr>\n",
       "      <th>3</th>\n",
       "      <td>666044226329800704</td>\n",
       "      <td>https://pbs.twimg.com/media/CT5Dr8HUEAA-lEu.jpg</td>\n",
       "      <td>1</td>\n",
       "      <td>Rhodesian_ridgeback</td>\n",
       "      <td>0.408143</td>\n",
       "      <td>True</td>\n",
       "      <td>redbone</td>\n",
       "      <td>0.360687</td>\n",
       "      <td>True</td>\n",
       "      <td>miniature_pinscher</td>\n",
       "      <td>0.222752</td>\n",
       "      <td>True</td>\n",
       "    </tr>\n",
       "    <tr>\n",
       "      <th>4</th>\n",
       "      <td>666049248165822465</td>\n",
       "      <td>https://pbs.twimg.com/media/CT5IQmsXIAAKY4A.jpg</td>\n",
       "      <td>1</td>\n",
       "      <td>miniature_pinscher</td>\n",
       "      <td>0.560311</td>\n",
       "      <td>True</td>\n",
       "      <td>Rottweiler</td>\n",
       "      <td>0.243682</td>\n",
       "      <td>True</td>\n",
       "      <td>Doberman</td>\n",
       "      <td>0.154629</td>\n",
       "      <td>True</td>\n",
       "    </tr>\n",
       "  </tbody>\n",
       "</table>\n",
       "</div>"
      ],
      "text/plain": [
       "             tweet_id                                          jpg_url  \\\n",
       "0  666020888022790149  https://pbs.twimg.com/media/CT4udn0WwAA0aMy.jpg   \n",
       "1  666029285002620928  https://pbs.twimg.com/media/CT42GRgUYAA5iDo.jpg   \n",
       "2  666033412701032449  https://pbs.twimg.com/media/CT4521TWwAEvMyu.jpg   \n",
       "3  666044226329800704  https://pbs.twimg.com/media/CT5Dr8HUEAA-lEu.jpg   \n",
       "4  666049248165822465  https://pbs.twimg.com/media/CT5IQmsXIAAKY4A.jpg   \n",
       "\n",
       "   img_num                      p1   p1_conf  p1_dog                  p2  \\\n",
       "0        1  Welsh_springer_spaniel  0.465074    True              collie   \n",
       "1        1                 redbone  0.506826    True  miniature_pinscher   \n",
       "2        1         German_shepherd  0.596461    True            malinois   \n",
       "3        1     Rhodesian_ridgeback  0.408143    True             redbone   \n",
       "4        1      miniature_pinscher  0.560311    True          Rottweiler   \n",
       "\n",
       "    p2_conf  p2_dog                   p3   p3_conf  p3_dog  \n",
       "0  0.156665    True    Shetland_sheepdog  0.061428    True  \n",
       "1  0.074192    True  Rhodesian_ridgeback  0.072010    True  \n",
       "2  0.138584    True           bloodhound  0.116197    True  \n",
       "3  0.360687    True   miniature_pinscher  0.222752    True  \n",
       "4  0.243682    True             Doberman  0.154629    True  "
      ]
     },
     "execution_count": 11,
     "metadata": {},
     "output_type": "execute_result"
    }
   ],
   "source": [
    "image_predictions.head()"
   ]
  },
  {
   "cell_type": "code",
   "execution_count": 12,
   "id": "411f1fef-495b-4d08-a9ea-0c571d08fd5c",
   "metadata": {
    "tags": []
   },
   "outputs": [
    {
     "data": {
      "text/html": [
       "<div>\n",
       "<style scoped>\n",
       "    .dataframe tbody tr th:only-of-type {\n",
       "        vertical-align: middle;\n",
       "    }\n",
       "\n",
       "    .dataframe tbody tr th {\n",
       "        vertical-align: top;\n",
       "    }\n",
       "\n",
       "    .dataframe thead th {\n",
       "        text-align: right;\n",
       "    }\n",
       "</style>\n",
       "<table border=\"1\" class=\"dataframe\">\n",
       "  <thead>\n",
       "    <tr style=\"text-align: right;\">\n",
       "      <th></th>\n",
       "      <th>tweet_id</th>\n",
       "      <th>created_at</th>\n",
       "      <th>full_text</th>\n",
       "      <th>retweet_count</th>\n",
       "      <th>favorite_count</th>\n",
       "      <th>expanded_urls</th>\n",
       "      <th>source</th>\n",
       "    </tr>\n",
       "  </thead>\n",
       "  <tbody>\n",
       "    <tr>\n",
       "      <th>0</th>\n",
       "      <td>892420643555336193</td>\n",
       "      <td>Tue Aug 01 16:23:56 +0000 2017</td>\n",
       "      <td>This is Phineas. He's a mystical boy. Only eve...</td>\n",
       "      <td>8853</td>\n",
       "      <td>39467</td>\n",
       "      <td>https://twitter.com/dog_rates/status/892420643...</td>\n",
       "      <td>&lt;a href=\"http://twitter.com/download/iphone\" r...</td>\n",
       "    </tr>\n",
       "    <tr>\n",
       "      <th>1</th>\n",
       "      <td>892177421306343426</td>\n",
       "      <td>Tue Aug 01 00:17:27 +0000 2017</td>\n",
       "      <td>This is Tilly. She's just checking pup on you....</td>\n",
       "      <td>6514</td>\n",
       "      <td>33819</td>\n",
       "      <td>https://twitter.com/dog_rates/status/892177421...</td>\n",
       "      <td>&lt;a href=\"http://twitter.com/download/iphone\" r...</td>\n",
       "    </tr>\n",
       "    <tr>\n",
       "      <th>2</th>\n",
       "      <td>891815181378084864</td>\n",
       "      <td>Mon Jul 31 00:18:03 +0000 2017</td>\n",
       "      <td>This is Archie. He is a rare Norwegian Pouncin...</td>\n",
       "      <td>4328</td>\n",
       "      <td>25461</td>\n",
       "      <td>https://twitter.com/dog_rates/status/891815181...</td>\n",
       "      <td>&lt;a href=\"http://twitter.com/download/iphone\" r...</td>\n",
       "    </tr>\n",
       "    <tr>\n",
       "      <th>3</th>\n",
       "      <td>891689557279858688</td>\n",
       "      <td>Sun Jul 30 15:58:51 +0000 2017</td>\n",
       "      <td>This is Darla. She commenced a snooze mid meal...</td>\n",
       "      <td>8964</td>\n",
       "      <td>42908</td>\n",
       "      <td>https://twitter.com/dog_rates/status/891689557...</td>\n",
       "      <td>&lt;a href=\"http://twitter.com/download/iphone\" r...</td>\n",
       "    </tr>\n",
       "    <tr>\n",
       "      <th>4</th>\n",
       "      <td>891327558926688256</td>\n",
       "      <td>Sat Jul 29 16:00:24 +0000 2017</td>\n",
       "      <td>This is Franklin. He would like you to stop ca...</td>\n",
       "      <td>9774</td>\n",
       "      <td>41048</td>\n",
       "      <td>https://twitter.com/dog_rates/status/891327558...</td>\n",
       "      <td>&lt;a href=\"http://twitter.com/download/iphone\" r...</td>\n",
       "    </tr>\n",
       "  </tbody>\n",
       "</table>\n",
       "</div>"
      ],
      "text/plain": [
       "             tweet_id                      created_at  \\\n",
       "0  892420643555336193  Tue Aug 01 16:23:56 +0000 2017   \n",
       "1  892177421306343426  Tue Aug 01 00:17:27 +0000 2017   \n",
       "2  891815181378084864  Mon Jul 31 00:18:03 +0000 2017   \n",
       "3  891689557279858688  Sun Jul 30 15:58:51 +0000 2017   \n",
       "4  891327558926688256  Sat Jul 29 16:00:24 +0000 2017   \n",
       "\n",
       "                                           full_text  retweet_count  \\\n",
       "0  This is Phineas. He's a mystical boy. Only eve...           8853   \n",
       "1  This is Tilly. She's just checking pup on you....           6514   \n",
       "2  This is Archie. He is a rare Norwegian Pouncin...           4328   \n",
       "3  This is Darla. She commenced a snooze mid meal...           8964   \n",
       "4  This is Franklin. He would like you to stop ca...           9774   \n",
       "\n",
       "   favorite_count                                      expanded_urls  \\\n",
       "0           39467  https://twitter.com/dog_rates/status/892420643...   \n",
       "1           33819  https://twitter.com/dog_rates/status/892177421...   \n",
       "2           25461  https://twitter.com/dog_rates/status/891815181...   \n",
       "3           42908  https://twitter.com/dog_rates/status/891689557...   \n",
       "4           41048  https://twitter.com/dog_rates/status/891327558...   \n",
       "\n",
       "                                              source  \n",
       "0  <a href=\"http://twitter.com/download/iphone\" r...  \n",
       "1  <a href=\"http://twitter.com/download/iphone\" r...  \n",
       "2  <a href=\"http://twitter.com/download/iphone\" r...  \n",
       "3  <a href=\"http://twitter.com/download/iphone\" r...  \n",
       "4  <a href=\"http://twitter.com/download/iphone\" r...  "
      ]
     },
     "execution_count": 12,
     "metadata": {},
     "output_type": "execute_result"
    }
   ],
   "source": [
    "twitter_archive_from_api.head()"
   ]
  },
  {
   "cell_type": "code",
   "execution_count": 13,
   "id": "ebc940ea-9c5a-4788-80fc-0a9071f38a39",
   "metadata": {},
   "outputs": [
    {
     "name": "stdout",
     "output_type": "stream",
     "text": [
      "<class 'pandas.core.frame.DataFrame'>\n",
      "RangeIndex: 2356 entries, 0 to 2355\n",
      "Data columns (total 17 columns):\n",
      " #   Column                      Non-Null Count  Dtype  \n",
      "---  ------                      --------------  -----  \n",
      " 0   tweet_id                    2356 non-null   int64  \n",
      " 1   in_reply_to_status_id       78 non-null     float64\n",
      " 2   in_reply_to_user_id         78 non-null     float64\n",
      " 3   timestamp                   2356 non-null   object \n",
      " 4   source                      2356 non-null   object \n",
      " 5   text                        2356 non-null   object \n",
      " 6   retweeted_status_id         181 non-null    float64\n",
      " 7   retweeted_status_user_id    181 non-null    float64\n",
      " 8   retweeted_status_timestamp  181 non-null    object \n",
      " 9   expanded_urls               2297 non-null   object \n",
      " 10  rating_numerator            2356 non-null   int64  \n",
      " 11  rating_denominator          2356 non-null   int64  \n",
      " 12  name                        2356 non-null   object \n",
      " 13  doggo                       2356 non-null   object \n",
      " 14  floofer                     2356 non-null   object \n",
      " 15  pupper                      2356 non-null   object \n",
      " 16  puppo                       2356 non-null   object \n",
      "dtypes: float64(4), int64(3), object(10)\n",
      "memory usage: 313.0+ KB\n"
     ]
    }
   ],
   "source": [
    "twitter_archive_enhanced.info()"
   ]
  },
  {
   "cell_type": "code",
   "execution_count": 14,
   "id": "04f71701-3140-4667-b5e3-471aa8aad89f",
   "metadata": {},
   "outputs": [
    {
     "name": "stdout",
     "output_type": "stream",
     "text": [
      "<class 'pandas.core.frame.DataFrame'>\n",
      "RangeIndex: 2354 entries, 0 to 2353\n",
      "Data columns (total 7 columns):\n",
      " #   Column          Non-Null Count  Dtype \n",
      "---  ------          --------------  ----- \n",
      " 0   tweet_id        2354 non-null   object\n",
      " 1   created_at      2354 non-null   object\n",
      " 2   full_text       2354 non-null   object\n",
      " 3   retweet_count   2354 non-null   int64 \n",
      " 4   favorite_count  2354 non-null   int64 \n",
      " 5   expanded_urls   2073 non-null   object\n",
      " 6   source          2354 non-null   object\n",
      "dtypes: int64(2), object(5)\n",
      "memory usage: 128.9+ KB\n"
     ]
    }
   ],
   "source": [
    "twitter_archive_from_api.info()"
   ]
  },
  {
   "cell_type": "code",
   "execution_count": 15,
   "id": "5a0cbb30-a60d-4b2d-b9f7-7d8eff0e3c26",
   "metadata": {},
   "outputs": [
    {
     "name": "stdout",
     "output_type": "stream",
     "text": [
      "<class 'pandas.core.frame.DataFrame'>\n",
      "RangeIndex: 2075 entries, 0 to 2074\n",
      "Data columns (total 12 columns):\n",
      " #   Column    Non-Null Count  Dtype  \n",
      "---  ------    --------------  -----  \n",
      " 0   tweet_id  2075 non-null   int64  \n",
      " 1   jpg_url   2075 non-null   object \n",
      " 2   img_num   2075 non-null   int64  \n",
      " 3   p1        2075 non-null   object \n",
      " 4   p1_conf   2075 non-null   float64\n",
      " 5   p1_dog    2075 non-null   bool   \n",
      " 6   p2        2075 non-null   object \n",
      " 7   p2_conf   2075 non-null   float64\n",
      " 8   p2_dog    2075 non-null   bool   \n",
      " 9   p3        2075 non-null   object \n",
      " 10  p3_conf   2075 non-null   float64\n",
      " 11  p3_dog    2075 non-null   bool   \n",
      "dtypes: bool(3), float64(3), int64(2), object(4)\n",
      "memory usage: 152.1+ KB\n"
     ]
    }
   ],
   "source": [
    "image_predictions.info()"
   ]
  },
  {
   "cell_type": "markdown",
   "id": "9c711d1e-912f-4631-9905-a127834c9ee5",
   "metadata": {
    "tags": []
   },
   "source": [
    "## Step 2: Assessing Data"
   ]
  },
  {
   "cell_type": "markdown",
   "id": "be88bba1-d8cc-40ab-88b6-8c293e100a31",
   "metadata": {},
   "source": [
    "In this section, detect and document at least **eight (8) quality issues and two (2) tidiness issue**. You must use **both** visual assessment\n",
    "programmatic assessement to assess the data.\n",
    "\n",
    "**Note:** pay attention to the following key points when you access the data.\n",
    "\n",
    "* You only want original ratings (no retweets) that have images. Though there are 5000+ tweets in the dataset, not all are dog ratings and some are retweets.\n",
    "* Assessing and cleaning the entire dataset completely would require a lot of time, and is not necessary to practice and demonstrate your skills in data wrangling. Therefore, the requirements of this project are only to assess and clean at least 8 quality issues and at least 2 tidiness issues in this dataset.\n",
    "* The fact that the rating numerators are greater than the denominators does not need to be cleaned. This [unique rating system](http://knowyourmeme.com/memes/theyre-good-dogs-brent) is a big part of the popularity of WeRateDogs.\n",
    "* You do not need to gather the tweets beyond August 1st, 2017. You can, but note that you won't be able to gather the image predictions for these tweets since you don't have access to the algorithm used.\n"
   ]
  },
  {
   "cell_type": "markdown",
   "id": "f98ff5ba-6407-467e-925e-987f773f5f80",
   "metadata": {},
   "source": [
    "### Quality issues\n",
    "\n",
    "`twitter_archive_enhanced` dataframe:\n",
    "1. `in_reply_to_status_id`, `in_reply_to_user_id` are floats, must be integers\n",
    "\n",
    "2. `retweeted_status_id`, `retweeted_status_user_id` are floats, must be integers\n",
    "\n",
    "3. columns with  missing values: `expanded_urls`, `retweeted_status_id`, `retweeted_status_user_id`, `in_reply_to_status_id`, `in_reply_to_user_id`, `retweeted_status_timestamp`\n",
    "\n",
    "4. columns that must be datetime format not string : `timestamp`, `retweeted_status_timestamp`\n",
    "\n",
    "`twitter_archive_from_api` dataframe:\n",
    "\n",
    "5. `tweet_id` are strings, must be integers\n",
    "\n",
    "6. columns that must be datetime format not string : `created_at`\n",
    "\n"
   ]
  },
  {
   "cell_type": "markdown",
   "id": "0e296db8-2f5f-4d4e-a390-2a7ae78ace24",
   "metadata": {
    "extensions": {
     "jupyter_dashboards": {
      "version": 1,
      "views": {
       "grid_default": {
        "col": 0,
        "height": 7,
        "hidden": false,
        "row": 40,
        "width": 12
       },
       "report_default": {
        "hidden": false
       }
      }
     }
    },
    "jp-MarkdownHeadingCollapsed": true,
    "tags": []
   },
   "source": [
    "### Tidiness issues\n",
    "\n",
    "`twitter_archive_enhanced` dataframe:\n",
    "\n",
    "1. drop non existig `expanded_urls`\n",
    "\n",
    "2. separate tables for existing and non existing `expanded_urls`\n",
    "\n",
    "3. separate tables for existing and non existing `expanded_urls`, `retweeted_status_id`, `retweeted_status_user_id`, `retweeted_status_timestamp` \n",
    "\n",
    "4. separate tables for existing and non existing `expanded_urls`, `in_reply_to_status_id`, `in_reply_to_user_id`\n",
    "\n",
    "`twitter_archive_from_api` dataframe:\n",
    "1. drop non existig `expanded_urls`\n",
    "\n",
    "2. missing rating colomns(rating numerator and rating denominator) all of that are in the text message\n",
    "\n",
    "3. missing dog's name. The dog's name is in the text message. Need extraction.\n",
    "\n",
    "Create a `master_twitter_archive` dataframe from the two dataframes:"
   ]
  },
  {
   "cell_type": "markdown",
   "id": "cde63cc5-8531-4fd5-a1c3-83059ed78e90",
   "metadata": {
    "extensions": {
     "jupyter_dashboards": {
      "version": 1,
      "views": {
       "grid_default": {
        "col": 4,
        "height": 4,
        "hidden": false,
        "row": 32,
        "width": 4
       },
       "report_default": {
        "hidden": false
       }
      }
     }
    },
    "tags": []
   },
   "source": [
    "## Cleaning Data\n",
    "In this section, clean **all** of the issues you documented while assessing. \n",
    "\n",
    "**Note:** Make a copy of the original data before cleaning. Cleaning includes merging individual pieces of data according to the rules of [tidy data](https://cran.r-project.org/web/packages/tidyr/vignettes/tidy-data.html). The result should be a high-quality and tidy master pandas DataFrame (or DataFrames, if appropriate)."
   ]
  },
  {
   "cell_type": "code",
   "execution_count": 16,
   "id": "8a1ff7ac-99ab-4021-8dc1-4dc33231a158",
   "metadata": {},
   "outputs": [],
   "source": [
    "# Make copies of original pieces of data\n",
    "ehd_twitter_clean = twitter_archive_enhanced.copy()\n",
    "api_twitter_clean = twitter_archive_from_api.copy()"
   ]
  },
  {
   "cell_type": "markdown",
   "id": "72629aed-6f6c-48fb-9666-9c0d8d170f11",
   "metadata": {
    "jp-MarkdownHeadingCollapsed": true,
    "tags": []
   },
   "source": [
    "### Quality Issue #1: `twitter_archive_enhanced` dataframe:\n",
    "1. `in_reply_to_status_id`, `in_reply_to_user_id` are floats, must be integers\n",
    "\n",
    "2. `retweeted_status_id`, `retweeted_status_user_id` are floats, must be integers"
   ]
  },
  {
   "cell_type": "markdown",
   "id": "07761311-4205-44fb-ae4c-b53f4e097da8",
   "metadata": {},
   "source": [
    "#### Define:\n",
    "Convert datatype from float to integer"
   ]
  },
  {
   "cell_type": "markdown",
   "id": "2568fc9f-04a4-49df-bcc5-60696d8df962",
   "metadata": {},
   "source": [
    "#### Code"
   ]
  },
  {
   "cell_type": "markdown",
   "id": "e12a2641-e47f-4bf1-976c-e78c1dda62d2",
   "metadata": {},
   "source": [
    "help source : [panda-astype-not-converting-column-to-int-even-when-using-errors-ignore](https://stackoverflow.com/questions/70335874/panda-astype-not-converting-column-to-int-even-when-using-errors-ignore)"
   ]
  },
  {
   "cell_type": "code",
   "execution_count": 17,
   "id": "0a3d95c0-2786-4bbf-ba05-552bcf74545f",
   "metadata": {},
   "outputs": [],
   "source": [
    "ehd_twitter_clean['in_reply_to_status_id'] = ehd_twitter_clean['in_reply_to_status_id'].fillna(pd.NA).astype(pd.Int64Dtype())\n",
    "ehd_twitter_clean['in_reply_to_user_id'] = ehd_twitter_clean['in_reply_to_user_id'].fillna(pd.NA).astype(pd.Int64Dtype())\n",
    "ehd_twitter_clean['retweeted_status_id'] = ehd_twitter_clean['retweeted_status_id'].fillna(pd.NA).astype(pd.Int64Dtype())\n",
    "ehd_twitter_clean['retweeted_status_user_id'] = ehd_twitter_clean['retweeted_status_user_id'].fillna(pd.NA).astype(pd.Int64Dtype())"
   ]
  },
  {
   "cell_type": "markdown",
   "id": "ae1d19e7-08b5-4b69-a977-f904e7512bd0",
   "metadata": {
    "tags": []
   },
   "source": [
    "#### Test"
   ]
  },
  {
   "cell_type": "code",
   "execution_count": 18,
   "id": "9be5f9d0-2b1f-493f-8fd7-5c58bedfc94d",
   "metadata": {},
   "outputs": [
    {
     "data": {
      "text/plain": [
       "Int64Dtype()"
      ]
     },
     "execution_count": 18,
     "metadata": {},
     "output_type": "execute_result"
    }
   ],
   "source": [
    "ehd_twitter_clean['in_reply_to_status_id'].dtype"
   ]
  },
  {
   "cell_type": "code",
   "execution_count": 19,
   "id": "6c73be7d-5026-4534-bf43-b8767b2850fe",
   "metadata": {},
   "outputs": [
    {
     "data": {
      "text/plain": [
       "Int64Dtype()"
      ]
     },
     "execution_count": 19,
     "metadata": {},
     "output_type": "execute_result"
    }
   ],
   "source": [
    "ehd_twitter_clean['in_reply_to_user_id'].dtype"
   ]
  },
  {
   "cell_type": "code",
   "execution_count": 20,
   "id": "ca4260dc-1853-4b4e-9574-388528758b6d",
   "metadata": {},
   "outputs": [
    {
     "data": {
      "text/plain": [
       "Int64Dtype()"
      ]
     },
     "execution_count": 20,
     "metadata": {},
     "output_type": "execute_result"
    }
   ],
   "source": [
    "ehd_twitter_clean['retweeted_status_id'].dtype"
   ]
  },
  {
   "cell_type": "code",
   "execution_count": 21,
   "id": "5647b77b-907f-49cf-924c-fb507c700655",
   "metadata": {},
   "outputs": [
    {
     "data": {
      "text/plain": [
       "Int64Dtype()"
      ]
     },
     "execution_count": 21,
     "metadata": {},
     "output_type": "execute_result"
    }
   ],
   "source": [
    "ehd_twitter_clean['retweeted_status_user_id'].dtype"
   ]
  },
  {
   "cell_type": "markdown",
   "id": "bbaa88a0-836c-49b3-8590-4e3364354446",
   "metadata": {
    "jp-MarkdownHeadingCollapsed": true,
    "tags": []
   },
   "source": [
    "### Quality Issue #2: `twitter_archive_enhanced` dataframe:\n",
    "\n",
    "3. columns with  missing values: `expanded_urls`, `retweeted_status_id`, `retweeted_status_user_id`, `in_reply_to_status_id`, `in_reply_to_user_id`, `retweeted_status_timestamp`"
   ]
  },
  {
   "cell_type": "markdown",
   "id": "0e6f88a4-4a12-4d8e-b584-74e1a8770425",
   "metadata": {
    "extensions": {
     "jupyter_dashboards": {
      "version": 1,
      "views": {
       "grid_default": {
        "hidden": true
       },
       "report_default": {
        "hidden": true
       }
      }
     }
    },
    "tags": []
   },
   "source": [
    "#### Define\n",
    "We can't deal with missing values. we'll leave missing values as they are. They represent a tidiness issue mentionned in the tidiness group. It will be solved in the tidiness solutions group."
   ]
  },
  {
   "cell_type": "markdown",
   "id": "96bbe501-03da-4d4e-8044-3a219319e84d",
   "metadata": {},
   "source": [
    "#### Code"
   ]
  },
  {
   "cell_type": "code",
   "execution_count": null,
   "id": "18d53cc2-9dc2-4c4f-84e3-f43cef917545",
   "metadata": {},
   "outputs": [],
   "source": []
  },
  {
   "cell_type": "markdown",
   "id": "3bc7c9ca-4bf9-403f-a690-6dccbd9adcbf",
   "metadata": {},
   "source": [
    "#### Test"
   ]
  },
  {
   "cell_type": "code",
   "execution_count": null,
   "id": "d5a1e1e8-44c3-4d6b-b649-412499a50995",
   "metadata": {},
   "outputs": [],
   "source": []
  },
  {
   "cell_type": "markdown",
   "id": "7bf16d39-2aea-4973-8a6e-f0ff9617ddd2",
   "metadata": {
    "jp-MarkdownHeadingCollapsed": true,
    "tags": []
   },
   "source": [
    "### Quality Issue #3: `twitter_archive_enhanced` dataframe:\n",
    "\n",
    "4. columns that must be datetime format not string : `timestamp`, `retweeted_status_timestamp`"
   ]
  },
  {
   "cell_type": "markdown",
   "id": "447f47ea-8bc6-4251-98b6-489c96cbfbbe",
   "metadata": {
    "extensions": {
     "jupyter_dashboards": {
      "version": 1,
      "views": {
       "grid_default": {
        "hidden": true
       },
       "report_default": {
        "hidden": true
       }
      }
     }
    }
   },
   "source": [
    "#### Define\n",
    "Convert `timestamp`, `retweeted_status_timestamp` datatype from object to datetime"
   ]
  },
  {
   "cell_type": "markdown",
   "id": "c2a35ac0-d6db-4511-bbcc-05be1d5c7ef6",
   "metadata": {},
   "source": [
    "#### Code"
   ]
  },
  {
   "cell_type": "code",
   "execution_count": 22,
   "id": "cb1032e8-cf57-4e77-b644-f35cd80daa21",
   "metadata": {},
   "outputs": [],
   "source": [
    "ehd_twitter_clean['timestamp'] = pd.to_datetime(ehd_twitter_clean['timestamp'])\n",
    "ehd_twitter_clean['retweeted_status_timestamp'] = pd.to_datetime(ehd_twitter_clean['retweeted_status_timestamp'])"
   ]
  },
  {
   "cell_type": "markdown",
   "id": "076aaa71-fed7-4fcd-8e36-78ea707a8db9",
   "metadata": {},
   "source": [
    "#### Test"
   ]
  },
  {
   "cell_type": "code",
   "execution_count": 23,
   "id": "0e47478a-40ba-40ba-b328-35db77f34112",
   "metadata": {},
   "outputs": [
    {
     "data": {
      "text/plain": [
       "datetime64[ns, UTC]"
      ]
     },
     "execution_count": 23,
     "metadata": {},
     "output_type": "execute_result"
    }
   ],
   "source": [
    "ehd_twitter_clean['retweeted_status_timestamp'].dtype"
   ]
  },
  {
   "cell_type": "code",
   "execution_count": 24,
   "id": "a38f9dd5-6638-473b-bcec-a307e1c5eb22",
   "metadata": {},
   "outputs": [
    {
     "data": {
      "text/plain": [
       "datetime64[ns, UTC]"
      ]
     },
     "execution_count": 24,
     "metadata": {},
     "output_type": "execute_result"
    }
   ],
   "source": [
    "ehd_twitter_clean['timestamp'].dtype"
   ]
  },
  {
   "cell_type": "markdown",
   "id": "2a4149b7-4193-4c60-b822-ee913b4509c3",
   "metadata": {
    "tags": []
   },
   "source": [
    "### Quality Issue #4:`twitter_archive_from_api` dataframe:\n",
    "5. `tweet_id` are strings, must be integers\n",
    "\n",
    "6. columns that must be datetime format not string : `created_at`"
   ]
  },
  {
   "cell_type": "markdown",
   "id": "051a3d3f-6a08-4b41-83ef-099a684c40dd",
   "metadata": {
    "extensions": {
     "jupyter_dashboards": {
      "version": 1,
      "views": {
       "grid_default": {
        "hidden": true
       },
       "report_default": {
        "hidden": true
       }
      }
     }
    }
   },
   "source": [
    "#### Define\n",
    "Convert `tweet_id` datatype from object to integer\n",
    "\n",
    "Convert `created_at` datatype from object to datetime"
   ]
  },
  {
   "cell_type": "markdown",
   "id": "4105a986-03ca-4035-a05f-5ca38689efad",
   "metadata": {},
   "source": [
    "#### Code"
   ]
  },
  {
   "cell_type": "code",
   "execution_count": 25,
   "id": "4b7e690c-8ed1-4333-833a-a0d815cf6e8d",
   "metadata": {},
   "outputs": [],
   "source": [
    "api_twitter_clean['tweet_id'] = api_twitter_clean['tweet_id'].fillna(pd.NA).astype(pd.Int64Dtype())\n",
    "api_twitter_clean['created_at'] = pd.to_datetime(api_twitter_clean['created_at'])"
   ]
  },
  {
   "cell_type": "markdown",
   "id": "d8120170-89f0-4c38-b697-d41efeab4abc",
   "metadata": {},
   "source": [
    "#### Test"
   ]
  },
  {
   "cell_type": "code",
   "execution_count": 26,
   "id": "13c8ba1a-35a6-4ce6-8bc0-8d41a61ea4d3",
   "metadata": {},
   "outputs": [
    {
     "data": {
      "text/plain": [
       "Int64Dtype()"
      ]
     },
     "execution_count": 26,
     "metadata": {},
     "output_type": "execute_result"
    }
   ],
   "source": [
    "api_twitter_clean['tweet_id'].dtype"
   ]
  },
  {
   "cell_type": "code",
   "execution_count": 27,
   "id": "cfbeabae-17cf-4d40-a1c8-5598cfde53ae",
   "metadata": {},
   "outputs": [
    {
     "data": {
      "text/plain": [
       "datetime64[ns, UTC]"
      ]
     },
     "execution_count": 27,
     "metadata": {},
     "output_type": "execute_result"
    }
   ],
   "source": [
    "api_twitter_clean['created_at'].dtype"
   ]
  },
  {
   "cell_type": "markdown",
   "id": "4055a79a-7736-4461-98d8-965bdbcea787",
   "metadata": {
    "jp-MarkdownHeadingCollapsed": true,
    "tags": []
   },
   "source": [
    "### Tidiness Issue #1:`twitter_archive_enhanced` dataframe:\n",
    "\n",
    "1. drop non existig `expanded_urls`\n",
    "\n",
    "2. separate tables for existing and non existing `expanded_urls`\n",
    "\n",
    "3. separate tables for existing and non existing `expanded_urls`, `retweeted_status_id`, `retweeted_status_user_id`, `retweeted_status_timestamp` \n",
    "\n",
    "4. separate tables for existing and non existing `expanded_urls`, `in_reply_to_status_id`, `in_reply_to_user_id`\n"
   ]
  },
  {
   "cell_type": "markdown",
   "id": "197ff48b-7a0d-4d75-bb02-bbae5e6a74f8",
   "metadata": {
    "extensions": {
     "jupyter_dashboards": {
      "version": 1,
      "views": {
       "grid_default": {
        "hidden": true
       },
       "report_default": {
        "hidden": true
       }
      }
     }
    },
    "jp-MarkdownHeadingCollapsed": true,
    "tags": []
   },
   "source": [
    "#### Define\n",
    "Create a new datframe `ehd_missing_expanded_urls` by slicing the dataframe\n",
    "\n",
    "Drop rows with missing `expanded_urls`\n",
    "\n",
    "Create a new dataframe `ehd_retweeted` for retweeted posts\n",
    "\n",
    "Drop rows that are retweets\n",
    "\n",
    "Create a new dataframe `ehd_reply` for replied posts"
   ]
  },
  {
   "cell_type": "markdown",
   "id": "092ffccf-2b50-4a04-9066-b060974fd532",
   "metadata": {},
   "source": [
    "#### Code"
   ]
  },
  {
   "cell_type": "markdown",
   "id": "c34877a6-8aca-421c-9143-baa665176e14",
   "metadata": {},
   "source": [
    "Help source: [how-to-delete-rows-from-a-pandas-dataframe-based-on-a-conditional-expression](https://stackoverflow.com/questions/13851535/how-to-delete-rows-from-a-pandas-dataframe-based-on-a-conditional-expression)"
   ]
  },
  {
   "cell_type": "code",
   "execution_count": 28,
   "id": "9a820ff5-0bc1-4174-99c7-71d5ffe29708",
   "metadata": {
    "tags": []
   },
   "outputs": [],
   "source": [
    "# Create a new datframe `missing_expanded_urls` by slicing the dataframe\n",
    "ehd_missing_expanded_urls = ehd_twitter_clean[ehd_twitter_clean['expanded_urls'].isnull()]"
   ]
  },
  {
   "cell_type": "code",
   "execution_count": 29,
   "id": "f3a2bfda-3993-4af7-87aa-a910ec01e2b6",
   "metadata": {
    "tags": []
   },
   "outputs": [],
   "source": [
    "# Drop rows with missing `expanded_urls`\n",
    "ehd_twitter_clean.drop(ehd_twitter_clean[ehd_twitter_clean['expanded_urls'].isnull()].index,\n",
    "                      inplace=True)"
   ]
  },
  {
   "cell_type": "code",
   "execution_count": 30,
   "id": "94623251-f67f-4fdd-8647-f8470eb605a4",
   "metadata": {},
   "outputs": [],
   "source": [
    "# Create a new dataframe `ehd_retweeted` for retweeted posts\n",
    "ehd_retweeted = ehd_twitter_clean[~ehd_twitter_clean['retweeted_status_id'].isnull()]"
   ]
  },
  {
   "cell_type": "code",
   "execution_count": 31,
   "id": "723422b8-7be4-42d4-b160-e583fb2b53f8",
   "metadata": {},
   "outputs": [],
   "source": [
    "# Create a new dataframe `ehd_reply` for replied posts\n",
    "ehd_reply = ehd_twitter_clean[~ehd_twitter_clean['in_reply_to_status_id'].isnull()]"
   ]
  },
  {
   "cell_type": "code",
   "execution_count": 32,
   "id": "0c95630d-fe5d-45ab-8a82-42b2049dd8d6",
   "metadata": {},
   "outputs": [],
   "source": [
    "# Drop rows that are retweets\n",
    "ehd_twitter_clean.drop(ehd_twitter_clean[~ehd_twitter_clean['retweeted_status_id'].isnull()].index,\n",
    "                      inplace=True)"
   ]
  },
  {
   "cell_type": "markdown",
   "id": "81c7cd14-e09d-4fa5-b8d3-2cf63940e890",
   "metadata": {},
   "source": [
    "#### Test"
   ]
  },
  {
   "cell_type": "code",
   "execution_count": 33,
   "id": "cbeda6d1-2603-4fff-a733-63175aa7a572",
   "metadata": {
    "tags": []
   },
   "outputs": [
    {
     "data": {
      "text/html": [
       "<div>\n",
       "<style scoped>\n",
       "    .dataframe tbody tr th:only-of-type {\n",
       "        vertical-align: middle;\n",
       "    }\n",
       "\n",
       "    .dataframe tbody tr th {\n",
       "        vertical-align: top;\n",
       "    }\n",
       "\n",
       "    .dataframe thead th {\n",
       "        text-align: right;\n",
       "    }\n",
       "</style>\n",
       "<table border=\"1\" class=\"dataframe\">\n",
       "  <thead>\n",
       "    <tr style=\"text-align: right;\">\n",
       "      <th></th>\n",
       "      <th>tweet_id</th>\n",
       "      <th>in_reply_to_status_id</th>\n",
       "      <th>in_reply_to_user_id</th>\n",
       "      <th>timestamp</th>\n",
       "      <th>source</th>\n",
       "      <th>text</th>\n",
       "      <th>retweeted_status_id</th>\n",
       "      <th>retweeted_status_user_id</th>\n",
       "      <th>retweeted_status_timestamp</th>\n",
       "      <th>expanded_urls</th>\n",
       "      <th>rating_numerator</th>\n",
       "      <th>rating_denominator</th>\n",
       "      <th>name</th>\n",
       "      <th>doggo</th>\n",
       "      <th>floofer</th>\n",
       "      <th>pupper</th>\n",
       "      <th>puppo</th>\n",
       "    </tr>\n",
       "  </thead>\n",
       "  <tbody>\n",
       "    <tr>\n",
       "      <th>0</th>\n",
       "      <td>892420643555336193</td>\n",
       "      <td>&lt;NA&gt;</td>\n",
       "      <td>&lt;NA&gt;</td>\n",
       "      <td>2017-08-01 16:23:56+00:00</td>\n",
       "      <td>&lt;a href=\"http://twitter.com/download/iphone\" r...</td>\n",
       "      <td>This is Phineas. He's a mystical boy. Only eve...</td>\n",
       "      <td>&lt;NA&gt;</td>\n",
       "      <td>&lt;NA&gt;</td>\n",
       "      <td>NaT</td>\n",
       "      <td>https://twitter.com/dog_rates/status/892420643...</td>\n",
       "      <td>13</td>\n",
       "      <td>10</td>\n",
       "      <td>Phineas</td>\n",
       "      <td>None</td>\n",
       "      <td>None</td>\n",
       "      <td>None</td>\n",
       "      <td>None</td>\n",
       "    </tr>\n",
       "    <tr>\n",
       "      <th>1</th>\n",
       "      <td>892177421306343426</td>\n",
       "      <td>&lt;NA&gt;</td>\n",
       "      <td>&lt;NA&gt;</td>\n",
       "      <td>2017-08-01 00:17:27+00:00</td>\n",
       "      <td>&lt;a href=\"http://twitter.com/download/iphone\" r...</td>\n",
       "      <td>This is Tilly. She's just checking pup on you....</td>\n",
       "      <td>&lt;NA&gt;</td>\n",
       "      <td>&lt;NA&gt;</td>\n",
       "      <td>NaT</td>\n",
       "      <td>https://twitter.com/dog_rates/status/892177421...</td>\n",
       "      <td>13</td>\n",
       "      <td>10</td>\n",
       "      <td>Tilly</td>\n",
       "      <td>None</td>\n",
       "      <td>None</td>\n",
       "      <td>None</td>\n",
       "      <td>None</td>\n",
       "    </tr>\n",
       "    <tr>\n",
       "      <th>2</th>\n",
       "      <td>891815181378084864</td>\n",
       "      <td>&lt;NA&gt;</td>\n",
       "      <td>&lt;NA&gt;</td>\n",
       "      <td>2017-07-31 00:18:03+00:00</td>\n",
       "      <td>&lt;a href=\"http://twitter.com/download/iphone\" r...</td>\n",
       "      <td>This is Archie. He is a rare Norwegian Pouncin...</td>\n",
       "      <td>&lt;NA&gt;</td>\n",
       "      <td>&lt;NA&gt;</td>\n",
       "      <td>NaT</td>\n",
       "      <td>https://twitter.com/dog_rates/status/891815181...</td>\n",
       "      <td>12</td>\n",
       "      <td>10</td>\n",
       "      <td>Archie</td>\n",
       "      <td>None</td>\n",
       "      <td>None</td>\n",
       "      <td>None</td>\n",
       "      <td>None</td>\n",
       "    </tr>\n",
       "    <tr>\n",
       "      <th>3</th>\n",
       "      <td>891689557279858688</td>\n",
       "      <td>&lt;NA&gt;</td>\n",
       "      <td>&lt;NA&gt;</td>\n",
       "      <td>2017-07-30 15:58:51+00:00</td>\n",
       "      <td>&lt;a href=\"http://twitter.com/download/iphone\" r...</td>\n",
       "      <td>This is Darla. She commenced a snooze mid meal...</td>\n",
       "      <td>&lt;NA&gt;</td>\n",
       "      <td>&lt;NA&gt;</td>\n",
       "      <td>NaT</td>\n",
       "      <td>https://twitter.com/dog_rates/status/891689557...</td>\n",
       "      <td>13</td>\n",
       "      <td>10</td>\n",
       "      <td>Darla</td>\n",
       "      <td>None</td>\n",
       "      <td>None</td>\n",
       "      <td>None</td>\n",
       "      <td>None</td>\n",
       "    </tr>\n",
       "    <tr>\n",
       "      <th>4</th>\n",
       "      <td>891327558926688256</td>\n",
       "      <td>&lt;NA&gt;</td>\n",
       "      <td>&lt;NA&gt;</td>\n",
       "      <td>2017-07-29 16:00:24+00:00</td>\n",
       "      <td>&lt;a href=\"http://twitter.com/download/iphone\" r...</td>\n",
       "      <td>This is Franklin. He would like you to stop ca...</td>\n",
       "      <td>&lt;NA&gt;</td>\n",
       "      <td>&lt;NA&gt;</td>\n",
       "      <td>NaT</td>\n",
       "      <td>https://twitter.com/dog_rates/status/891327558...</td>\n",
       "      <td>12</td>\n",
       "      <td>10</td>\n",
       "      <td>Franklin</td>\n",
       "      <td>None</td>\n",
       "      <td>None</td>\n",
       "      <td>None</td>\n",
       "      <td>None</td>\n",
       "    </tr>\n",
       "  </tbody>\n",
       "</table>\n",
       "</div>"
      ],
      "text/plain": [
       "             tweet_id  in_reply_to_status_id  in_reply_to_user_id  \\\n",
       "0  892420643555336193                   <NA>                 <NA>   \n",
       "1  892177421306343426                   <NA>                 <NA>   \n",
       "2  891815181378084864                   <NA>                 <NA>   \n",
       "3  891689557279858688                   <NA>                 <NA>   \n",
       "4  891327558926688256                   <NA>                 <NA>   \n",
       "\n",
       "                  timestamp  \\\n",
       "0 2017-08-01 16:23:56+00:00   \n",
       "1 2017-08-01 00:17:27+00:00   \n",
       "2 2017-07-31 00:18:03+00:00   \n",
       "3 2017-07-30 15:58:51+00:00   \n",
       "4 2017-07-29 16:00:24+00:00   \n",
       "\n",
       "                                              source  \\\n",
       "0  <a href=\"http://twitter.com/download/iphone\" r...   \n",
       "1  <a href=\"http://twitter.com/download/iphone\" r...   \n",
       "2  <a href=\"http://twitter.com/download/iphone\" r...   \n",
       "3  <a href=\"http://twitter.com/download/iphone\" r...   \n",
       "4  <a href=\"http://twitter.com/download/iphone\" r...   \n",
       "\n",
       "                                                text  retweeted_status_id  \\\n",
       "0  This is Phineas. He's a mystical boy. Only eve...                 <NA>   \n",
       "1  This is Tilly. She's just checking pup on you....                 <NA>   \n",
       "2  This is Archie. He is a rare Norwegian Pouncin...                 <NA>   \n",
       "3  This is Darla. She commenced a snooze mid meal...                 <NA>   \n",
       "4  This is Franklin. He would like you to stop ca...                 <NA>   \n",
       "\n",
       "   retweeted_status_user_id retweeted_status_timestamp  \\\n",
       "0                      <NA>                        NaT   \n",
       "1                      <NA>                        NaT   \n",
       "2                      <NA>                        NaT   \n",
       "3                      <NA>                        NaT   \n",
       "4                      <NA>                        NaT   \n",
       "\n",
       "                                       expanded_urls  rating_numerator  \\\n",
       "0  https://twitter.com/dog_rates/status/892420643...                13   \n",
       "1  https://twitter.com/dog_rates/status/892177421...                13   \n",
       "2  https://twitter.com/dog_rates/status/891815181...                12   \n",
       "3  https://twitter.com/dog_rates/status/891689557...                13   \n",
       "4  https://twitter.com/dog_rates/status/891327558...                12   \n",
       "\n",
       "   rating_denominator      name doggo floofer pupper puppo  \n",
       "0                  10   Phineas  None    None   None  None  \n",
       "1                  10     Tilly  None    None   None  None  \n",
       "2                  10    Archie  None    None   None  None  \n",
       "3                  10     Darla  None    None   None  None  \n",
       "4                  10  Franklin  None    None   None  None  "
      ]
     },
     "execution_count": 33,
     "metadata": {},
     "output_type": "execute_result"
    }
   ],
   "source": [
    "ehd_twitter_clean.head()"
   ]
  },
  {
   "cell_type": "markdown",
   "id": "e165fe78-e8fa-4c7d-ab82-8e7911014582",
   "metadata": {
    "tags": []
   },
   "source": [
    "### Tidiness Issue #2:`twitter_archive_from_api` dataframe:\n",
    "\n",
    "1. drop non existig `expanded_urls`\n",
    "\n",
    "2. missing rating colomns(rating numerator and rating denominator) all of that are in the text message\n",
    "\n",
    "3. missing dog's name. The dog's name is in the text message. Need extraction."
   ]
  },
  {
   "cell_type": "markdown",
   "id": "5a47389e-c462-45a9-9629-493af51a5ba8",
   "metadata": {
    "extensions": {
     "jupyter_dashboards": {
      "version": 1,
      "views": {
       "grid_default": {
        "hidden": true
       },
       "report_default": {
        "hidden": true
       }
      }
     }
    }
   },
   "source": [
    "#### Define\n",
    "Create a new datframe `api_missing_expanded_urls` by slicing the dataframe\n",
    "\n",
    "Drop rows with missing `expanded_urls`\n",
    "\n",
    "Create `rating_numerator` and `rating_denominator` columns by extracting `full_text` column"
   ]
  },
  {
   "cell_type": "markdown",
   "id": "fadbc896-60b0-4c27-a82c-b470c232c782",
   "metadata": {},
   "source": [
    "#### Code"
   ]
  },
  {
   "cell_type": "code",
   "execution_count": 34,
   "id": "5f13370c-d409-4cee-a503-33d14870eafb",
   "metadata": {
    "tags": []
   },
   "outputs": [],
   "source": [
    "# Create a new datframe `missing_expanded_urls` by slicing the dataframe\n",
    "api_missing_expanded_urls = api_twitter_clean[api_twitter_clean['expanded_urls'].isnull()]"
   ]
  },
  {
   "cell_type": "code",
   "execution_count": 35,
   "id": "6103d252-02f8-40bd-8526-d0bddd350a47",
   "metadata": {
    "tags": []
   },
   "outputs": [],
   "source": [
    "# Drop rows with missing `expanded_urls`\n",
    "api_twitter_clean.drop(api_twitter_clean[api_twitter_clean['expanded_urls'].isnull()].index,\n",
    "                      inplace=True)"
   ]
  },
  {
   "cell_type": "code",
   "execution_count": 36,
   "id": "92a35aa4-7844-467d-b4c9-d1fab4e21b2b",
   "metadata": {},
   "outputs": [
    {
     "name": "stdout",
     "output_type": "stream",
     "text": [
      "<class 'pandas.core.frame.DataFrame'>\n",
      "Int64Index: 2073 entries, 0 to 2353\n",
      "Data columns (total 7 columns):\n",
      " #   Column          Non-Null Count  Dtype              \n",
      "---  ------          --------------  -----              \n",
      " 0   tweet_id        2073 non-null   Int64              \n",
      " 1   created_at      2073 non-null   datetime64[ns, UTC]\n",
      " 2   full_text       2073 non-null   object             \n",
      " 3   retweet_count   2073 non-null   int64              \n",
      " 4   favorite_count  2073 non-null   int64              \n",
      " 5   expanded_urls   2073 non-null   object             \n",
      " 6   source          2073 non-null   object             \n",
      "dtypes: Int64(1), datetime64[ns, UTC](1), int64(2), object(3)\n",
      "memory usage: 131.6+ KB\n"
     ]
    }
   ],
   "source": [
    "api_twitter_clean.info()"
   ]
  },
  {
   "cell_type": "code",
   "execution_count": 37,
   "id": "e951c2ae-c122-46b4-b686-7d2b08b03cca",
   "metadata": {},
   "outputs": [
    {
     "name": "stderr",
     "output_type": "stream",
     "text": [
      "C:\\Users\\FOZING\\AppData\\Local\\Temp\\ipykernel_33292\\1698513584.py:4: FutureWarning: The default value of regex will change from True to False in a future version. In addition, single character regular expressions will *not* be treated as literal strings when regex=True.\n",
      "  ratings = api_twitter_clean['full_text'].str.replace('\\n', ' ').str.replace('.', ' ').str.replace(',', ' ').str.split(pat='/', n=1, expand=True)\n"
     ]
    }
   ],
   "source": [
    "# Create `rating_numerator` and `rating_denominator` by extracting `full_text` column\n",
    "\n",
    "# Extracting the ratings dataframe\n",
    "ratings = api_twitter_clean['full_text'].str.replace('\\n', ' ').str.replace('.', ' ').str.replace(',', ' ').str.split(pat='/', n=1, expand=True)\n",
    "# Extracting the Numerator value\n",
    "rating_num = ratings.iloc[:, 0].str.rsplit(pat=' ', n=1, expand=True).iloc[:, 1]\n",
    "# Extracting the Denominator value\n",
    "rating_denom = ratings.iloc[:, 1].str.split(pat=' ', n=1, expand=True).iloc[:, 0]\n",
    "\n",
    "# Creating the `rating_numerator` and `rating_denominator`\n",
    "api_twitter_clean['rating_numerator'] = pd.to_numeric(rating_num, downcast='signed', errors='coerce') # rating_num.astype(pd.Int64Dtype())\n",
    "api_twitter_clean['rating_denominator'] = pd.to_numeric(rating_denom, downcast='signed', errors='coerce') # rating_denom.astype(pd.Int64Dtype())"
   ]
  },
  {
   "cell_type": "code",
   "execution_count": null,
   "id": "a28c9008-5807-40a7-9a59-f0edbdae976d",
   "metadata": {},
   "outputs": [],
   "source": []
  },
  {
   "cell_type": "markdown",
   "id": "9c89e510-32db-4d65-b109-89c99982b8b2",
   "metadata": {},
   "source": [
    "### Tidiness Issue #3: Create a `master_twitter_archive` dataframe from the two dataframes `ehd_twitter_clean` and `api_twitter_clean`:"
   ]
  },
  {
   "cell_type": "markdown",
   "id": "8397cbfb-d248-46f7-9758-e78989b319a9",
   "metadata": {
    "extensions": {
     "jupyter_dashboards": {
      "version": 1,
      "views": {
       "grid_default": {
        "hidden": true
       },
       "report_default": {
        "hidden": true
       }
      }
     }
    }
   },
   "source": [
    "#### Define\n",
    "\n",
    "1. Drop  `in_reply_to_status_id`, `in_reply_to_user_id`, `retweeted_status_id`, `retweeted_status_user_id`, `retweeted_status_timestamp` in `ehd_twitter_clean` dataframe.\n",
    "\n",
    "2. Rename `timestamp` to `created_at` in  `ehd_twitter_clean` dataframe.\n",
    "\n",
    "3. Rename `text` in to `full_text` in `ehd_twitter_clean` dataframe.\n",
    "\n",
    "4. Keep only `tweet_id`, `retweet_count` and `favorite_count` in the `api_twitter_clean` dataframe drop all other columns. \n",
    "\n",
    "5. Operate the merge of the three dataframes `image_predictions`, `ehd_twitter_clean` and `api_twitter_clean` to have one `master_twitter_archive` dataframe"
   ]
  },
  {
   "cell_type": "markdown",
   "id": "d063d254-39ac-4542-8be6-21d2b8791e16",
   "metadata": {},
   "source": [
    "#### Code"
   ]
  },
  {
   "cell_type": "code",
   "execution_count": 38,
   "id": "a1e60d48-cebf-4254-9848-d9049ed65ca9",
   "metadata": {},
   "outputs": [
    {
     "data": {
      "text/html": [
       "<div>\n",
       "<style scoped>\n",
       "    .dataframe tbody tr th:only-of-type {\n",
       "        vertical-align: middle;\n",
       "    }\n",
       "\n",
       "    .dataframe tbody tr th {\n",
       "        vertical-align: top;\n",
       "    }\n",
       "\n",
       "    .dataframe thead th {\n",
       "        text-align: right;\n",
       "    }\n",
       "</style>\n",
       "<table border=\"1\" class=\"dataframe\">\n",
       "  <thead>\n",
       "    <tr style=\"text-align: right;\">\n",
       "      <th></th>\n",
       "      <th>tweet_id</th>\n",
       "      <th>timestamp</th>\n",
       "      <th>source</th>\n",
       "      <th>text</th>\n",
       "      <th>expanded_urls</th>\n",
       "      <th>rating_numerator</th>\n",
       "      <th>rating_denominator</th>\n",
       "      <th>name</th>\n",
       "      <th>doggo</th>\n",
       "      <th>floofer</th>\n",
       "      <th>pupper</th>\n",
       "      <th>puppo</th>\n",
       "    </tr>\n",
       "  </thead>\n",
       "  <tbody>\n",
       "    <tr>\n",
       "      <th>0</th>\n",
       "      <td>892420643555336193</td>\n",
       "      <td>2017-08-01 16:23:56+00:00</td>\n",
       "      <td>&lt;a href=\"http://twitter.com/download/iphone\" r...</td>\n",
       "      <td>This is Phineas. He's a mystical boy. Only eve...</td>\n",
       "      <td>https://twitter.com/dog_rates/status/892420643...</td>\n",
       "      <td>13</td>\n",
       "      <td>10</td>\n",
       "      <td>Phineas</td>\n",
       "      <td>None</td>\n",
       "      <td>None</td>\n",
       "      <td>None</td>\n",
       "      <td>None</td>\n",
       "    </tr>\n",
       "    <tr>\n",
       "      <th>1</th>\n",
       "      <td>892177421306343426</td>\n",
       "      <td>2017-08-01 00:17:27+00:00</td>\n",
       "      <td>&lt;a href=\"http://twitter.com/download/iphone\" r...</td>\n",
       "      <td>This is Tilly. She's just checking pup on you....</td>\n",
       "      <td>https://twitter.com/dog_rates/status/892177421...</td>\n",
       "      <td>13</td>\n",
       "      <td>10</td>\n",
       "      <td>Tilly</td>\n",
       "      <td>None</td>\n",
       "      <td>None</td>\n",
       "      <td>None</td>\n",
       "      <td>None</td>\n",
       "    </tr>\n",
       "    <tr>\n",
       "      <th>2</th>\n",
       "      <td>891815181378084864</td>\n",
       "      <td>2017-07-31 00:18:03+00:00</td>\n",
       "      <td>&lt;a href=\"http://twitter.com/download/iphone\" r...</td>\n",
       "      <td>This is Archie. He is a rare Norwegian Pouncin...</td>\n",
       "      <td>https://twitter.com/dog_rates/status/891815181...</td>\n",
       "      <td>12</td>\n",
       "      <td>10</td>\n",
       "      <td>Archie</td>\n",
       "      <td>None</td>\n",
       "      <td>None</td>\n",
       "      <td>None</td>\n",
       "      <td>None</td>\n",
       "    </tr>\n",
       "    <tr>\n",
       "      <th>3</th>\n",
       "      <td>891689557279858688</td>\n",
       "      <td>2017-07-30 15:58:51+00:00</td>\n",
       "      <td>&lt;a href=\"http://twitter.com/download/iphone\" r...</td>\n",
       "      <td>This is Darla. She commenced a snooze mid meal...</td>\n",
       "      <td>https://twitter.com/dog_rates/status/891689557...</td>\n",
       "      <td>13</td>\n",
       "      <td>10</td>\n",
       "      <td>Darla</td>\n",
       "      <td>None</td>\n",
       "      <td>None</td>\n",
       "      <td>None</td>\n",
       "      <td>None</td>\n",
       "    </tr>\n",
       "    <tr>\n",
       "      <th>4</th>\n",
       "      <td>891327558926688256</td>\n",
       "      <td>2017-07-29 16:00:24+00:00</td>\n",
       "      <td>&lt;a href=\"http://twitter.com/download/iphone\" r...</td>\n",
       "      <td>This is Franklin. He would like you to stop ca...</td>\n",
       "      <td>https://twitter.com/dog_rates/status/891327558...</td>\n",
       "      <td>12</td>\n",
       "      <td>10</td>\n",
       "      <td>Franklin</td>\n",
       "      <td>None</td>\n",
       "      <td>None</td>\n",
       "      <td>None</td>\n",
       "      <td>None</td>\n",
       "    </tr>\n",
       "    <tr>\n",
       "      <th>...</th>\n",
       "      <td>...</td>\n",
       "      <td>...</td>\n",
       "      <td>...</td>\n",
       "      <td>...</td>\n",
       "      <td>...</td>\n",
       "      <td>...</td>\n",
       "      <td>...</td>\n",
       "      <td>...</td>\n",
       "      <td>...</td>\n",
       "      <td>...</td>\n",
       "      <td>...</td>\n",
       "      <td>...</td>\n",
       "    </tr>\n",
       "    <tr>\n",
       "      <th>2351</th>\n",
       "      <td>666049248165822465</td>\n",
       "      <td>2015-11-16 00:24:50+00:00</td>\n",
       "      <td>&lt;a href=\"http://twitter.com/download/iphone\" r...</td>\n",
       "      <td>Here we have a 1949 1st generation vulpix. Enj...</td>\n",
       "      <td>https://twitter.com/dog_rates/status/666049248...</td>\n",
       "      <td>5</td>\n",
       "      <td>10</td>\n",
       "      <td>None</td>\n",
       "      <td>None</td>\n",
       "      <td>None</td>\n",
       "      <td>None</td>\n",
       "      <td>None</td>\n",
       "    </tr>\n",
       "    <tr>\n",
       "      <th>2352</th>\n",
       "      <td>666044226329800704</td>\n",
       "      <td>2015-11-16 00:04:52+00:00</td>\n",
       "      <td>&lt;a href=\"http://twitter.com/download/iphone\" r...</td>\n",
       "      <td>This is a purebred Piers Morgan. Loves to Netf...</td>\n",
       "      <td>https://twitter.com/dog_rates/status/666044226...</td>\n",
       "      <td>6</td>\n",
       "      <td>10</td>\n",
       "      <td>a</td>\n",
       "      <td>None</td>\n",
       "      <td>None</td>\n",
       "      <td>None</td>\n",
       "      <td>None</td>\n",
       "    </tr>\n",
       "    <tr>\n",
       "      <th>2353</th>\n",
       "      <td>666033412701032449</td>\n",
       "      <td>2015-11-15 23:21:54+00:00</td>\n",
       "      <td>&lt;a href=\"http://twitter.com/download/iphone\" r...</td>\n",
       "      <td>Here is a very happy pup. Big fan of well-main...</td>\n",
       "      <td>https://twitter.com/dog_rates/status/666033412...</td>\n",
       "      <td>9</td>\n",
       "      <td>10</td>\n",
       "      <td>a</td>\n",
       "      <td>None</td>\n",
       "      <td>None</td>\n",
       "      <td>None</td>\n",
       "      <td>None</td>\n",
       "    </tr>\n",
       "    <tr>\n",
       "      <th>2354</th>\n",
       "      <td>666029285002620928</td>\n",
       "      <td>2015-11-15 23:05:30+00:00</td>\n",
       "      <td>&lt;a href=\"http://twitter.com/download/iphone\" r...</td>\n",
       "      <td>This is a western brown Mitsubishi terrier. Up...</td>\n",
       "      <td>https://twitter.com/dog_rates/status/666029285...</td>\n",
       "      <td>7</td>\n",
       "      <td>10</td>\n",
       "      <td>a</td>\n",
       "      <td>None</td>\n",
       "      <td>None</td>\n",
       "      <td>None</td>\n",
       "      <td>None</td>\n",
       "    </tr>\n",
       "    <tr>\n",
       "      <th>2355</th>\n",
       "      <td>666020888022790149</td>\n",
       "      <td>2015-11-15 22:32:08+00:00</td>\n",
       "      <td>&lt;a href=\"http://twitter.com/download/iphone\" r...</td>\n",
       "      <td>Here we have a Japanese Irish Setter. Lost eye...</td>\n",
       "      <td>https://twitter.com/dog_rates/status/666020888...</td>\n",
       "      <td>8</td>\n",
       "      <td>10</td>\n",
       "      <td>None</td>\n",
       "      <td>None</td>\n",
       "      <td>None</td>\n",
       "      <td>None</td>\n",
       "      <td>None</td>\n",
       "    </tr>\n",
       "  </tbody>\n",
       "</table>\n",
       "<p>2117 rows × 12 columns</p>\n",
       "</div>"
      ],
      "text/plain": [
       "                tweet_id                 timestamp  \\\n",
       "0     892420643555336193 2017-08-01 16:23:56+00:00   \n",
       "1     892177421306343426 2017-08-01 00:17:27+00:00   \n",
       "2     891815181378084864 2017-07-31 00:18:03+00:00   \n",
       "3     891689557279858688 2017-07-30 15:58:51+00:00   \n",
       "4     891327558926688256 2017-07-29 16:00:24+00:00   \n",
       "...                  ...                       ...   \n",
       "2351  666049248165822465 2015-11-16 00:24:50+00:00   \n",
       "2352  666044226329800704 2015-11-16 00:04:52+00:00   \n",
       "2353  666033412701032449 2015-11-15 23:21:54+00:00   \n",
       "2354  666029285002620928 2015-11-15 23:05:30+00:00   \n",
       "2355  666020888022790149 2015-11-15 22:32:08+00:00   \n",
       "\n",
       "                                                 source  \\\n",
       "0     <a href=\"http://twitter.com/download/iphone\" r...   \n",
       "1     <a href=\"http://twitter.com/download/iphone\" r...   \n",
       "2     <a href=\"http://twitter.com/download/iphone\" r...   \n",
       "3     <a href=\"http://twitter.com/download/iphone\" r...   \n",
       "4     <a href=\"http://twitter.com/download/iphone\" r...   \n",
       "...                                                 ...   \n",
       "2351  <a href=\"http://twitter.com/download/iphone\" r...   \n",
       "2352  <a href=\"http://twitter.com/download/iphone\" r...   \n",
       "2353  <a href=\"http://twitter.com/download/iphone\" r...   \n",
       "2354  <a href=\"http://twitter.com/download/iphone\" r...   \n",
       "2355  <a href=\"http://twitter.com/download/iphone\" r...   \n",
       "\n",
       "                                                   text  \\\n",
       "0     This is Phineas. He's a mystical boy. Only eve...   \n",
       "1     This is Tilly. She's just checking pup on you....   \n",
       "2     This is Archie. He is a rare Norwegian Pouncin...   \n",
       "3     This is Darla. She commenced a snooze mid meal...   \n",
       "4     This is Franklin. He would like you to stop ca...   \n",
       "...                                                 ...   \n",
       "2351  Here we have a 1949 1st generation vulpix. Enj...   \n",
       "2352  This is a purebred Piers Morgan. Loves to Netf...   \n",
       "2353  Here is a very happy pup. Big fan of well-main...   \n",
       "2354  This is a western brown Mitsubishi terrier. Up...   \n",
       "2355  Here we have a Japanese Irish Setter. Lost eye...   \n",
       "\n",
       "                                          expanded_urls  rating_numerator  \\\n",
       "0     https://twitter.com/dog_rates/status/892420643...                13   \n",
       "1     https://twitter.com/dog_rates/status/892177421...                13   \n",
       "2     https://twitter.com/dog_rates/status/891815181...                12   \n",
       "3     https://twitter.com/dog_rates/status/891689557...                13   \n",
       "4     https://twitter.com/dog_rates/status/891327558...                12   \n",
       "...                                                 ...               ...   \n",
       "2351  https://twitter.com/dog_rates/status/666049248...                 5   \n",
       "2352  https://twitter.com/dog_rates/status/666044226...                 6   \n",
       "2353  https://twitter.com/dog_rates/status/666033412...                 9   \n",
       "2354  https://twitter.com/dog_rates/status/666029285...                 7   \n",
       "2355  https://twitter.com/dog_rates/status/666020888...                 8   \n",
       "\n",
       "      rating_denominator      name doggo floofer pupper puppo  \n",
       "0                     10   Phineas  None    None   None  None  \n",
       "1                     10     Tilly  None    None   None  None  \n",
       "2                     10    Archie  None    None   None  None  \n",
       "3                     10     Darla  None    None   None  None  \n",
       "4                     10  Franklin  None    None   None  None  \n",
       "...                  ...       ...   ...     ...    ...   ...  \n",
       "2351                  10      None  None    None   None  None  \n",
       "2352                  10         a  None    None   None  None  \n",
       "2353                  10         a  None    None   None  None  \n",
       "2354                  10         a  None    None   None  None  \n",
       "2355                  10      None  None    None   None  None  \n",
       "\n",
       "[2117 rows x 12 columns]"
      ]
     },
     "execution_count": 38,
     "metadata": {},
     "output_type": "execute_result"
    }
   ],
   "source": [
    "med = ehd_twitter_clean.drop(columns=['in_reply_to_status_id', 'in_reply_to_user_id',\n",
    "                               'retweeted_status_id', 'retweeted_status_user_id',\n",
    "                               'retweeted_status_timestamp']) \n",
    "med"
   ]
  },
  {
   "cell_type": "code",
   "execution_count": 39,
   "id": "8109ba4f-66a5-49ca-8431-ef0d3dea8624",
   "metadata": {},
   "outputs": [
    {
     "data": {
      "text/html": [
       "<div>\n",
       "<style scoped>\n",
       "    .dataframe tbody tr th:only-of-type {\n",
       "        vertical-align: middle;\n",
       "    }\n",
       "\n",
       "    .dataframe tbody tr th {\n",
       "        vertical-align: top;\n",
       "    }\n",
       "\n",
       "    .dataframe thead th {\n",
       "        text-align: right;\n",
       "    }\n",
       "</style>\n",
       "<table border=\"1\" class=\"dataframe\">\n",
       "  <thead>\n",
       "    <tr style=\"text-align: right;\">\n",
       "      <th></th>\n",
       "      <th>tweet_id</th>\n",
       "      <th>created_at</th>\n",
       "      <th>source</th>\n",
       "      <th>full_text</th>\n",
       "      <th>expanded_urls</th>\n",
       "      <th>rating_numerator</th>\n",
       "      <th>rating_denominator</th>\n",
       "      <th>name</th>\n",
       "      <th>doggo</th>\n",
       "      <th>floofer</th>\n",
       "      <th>pupper</th>\n",
       "      <th>puppo</th>\n",
       "    </tr>\n",
       "  </thead>\n",
       "  <tbody>\n",
       "    <tr>\n",
       "      <th>0</th>\n",
       "      <td>892420643555336193</td>\n",
       "      <td>2017-08-01 16:23:56+00:00</td>\n",
       "      <td>&lt;a href=\"http://twitter.com/download/iphone\" r...</td>\n",
       "      <td>This is Phineas. He's a mystical boy. Only eve...</td>\n",
       "      <td>https://twitter.com/dog_rates/status/892420643...</td>\n",
       "      <td>13</td>\n",
       "      <td>10</td>\n",
       "      <td>Phineas</td>\n",
       "      <td>None</td>\n",
       "      <td>None</td>\n",
       "      <td>None</td>\n",
       "      <td>None</td>\n",
       "    </tr>\n",
       "    <tr>\n",
       "      <th>1</th>\n",
       "      <td>892177421306343426</td>\n",
       "      <td>2017-08-01 00:17:27+00:00</td>\n",
       "      <td>&lt;a href=\"http://twitter.com/download/iphone\" r...</td>\n",
       "      <td>This is Tilly. She's just checking pup on you....</td>\n",
       "      <td>https://twitter.com/dog_rates/status/892177421...</td>\n",
       "      <td>13</td>\n",
       "      <td>10</td>\n",
       "      <td>Tilly</td>\n",
       "      <td>None</td>\n",
       "      <td>None</td>\n",
       "      <td>None</td>\n",
       "      <td>None</td>\n",
       "    </tr>\n",
       "    <tr>\n",
       "      <th>2</th>\n",
       "      <td>891815181378084864</td>\n",
       "      <td>2017-07-31 00:18:03+00:00</td>\n",
       "      <td>&lt;a href=\"http://twitter.com/download/iphone\" r...</td>\n",
       "      <td>This is Archie. He is a rare Norwegian Pouncin...</td>\n",
       "      <td>https://twitter.com/dog_rates/status/891815181...</td>\n",
       "      <td>12</td>\n",
       "      <td>10</td>\n",
       "      <td>Archie</td>\n",
       "      <td>None</td>\n",
       "      <td>None</td>\n",
       "      <td>None</td>\n",
       "      <td>None</td>\n",
       "    </tr>\n",
       "    <tr>\n",
       "      <th>3</th>\n",
       "      <td>891689557279858688</td>\n",
       "      <td>2017-07-30 15:58:51+00:00</td>\n",
       "      <td>&lt;a href=\"http://twitter.com/download/iphone\" r...</td>\n",
       "      <td>This is Darla. She commenced a snooze mid meal...</td>\n",
       "      <td>https://twitter.com/dog_rates/status/891689557...</td>\n",
       "      <td>13</td>\n",
       "      <td>10</td>\n",
       "      <td>Darla</td>\n",
       "      <td>None</td>\n",
       "      <td>None</td>\n",
       "      <td>None</td>\n",
       "      <td>None</td>\n",
       "    </tr>\n",
       "    <tr>\n",
       "      <th>4</th>\n",
       "      <td>891327558926688256</td>\n",
       "      <td>2017-07-29 16:00:24+00:00</td>\n",
       "      <td>&lt;a href=\"http://twitter.com/download/iphone\" r...</td>\n",
       "      <td>This is Franklin. He would like you to stop ca...</td>\n",
       "      <td>https://twitter.com/dog_rates/status/891327558...</td>\n",
       "      <td>12</td>\n",
       "      <td>10</td>\n",
       "      <td>Franklin</td>\n",
       "      <td>None</td>\n",
       "      <td>None</td>\n",
       "      <td>None</td>\n",
       "      <td>None</td>\n",
       "    </tr>\n",
       "    <tr>\n",
       "      <th>...</th>\n",
       "      <td>...</td>\n",
       "      <td>...</td>\n",
       "      <td>...</td>\n",
       "      <td>...</td>\n",
       "      <td>...</td>\n",
       "      <td>...</td>\n",
       "      <td>...</td>\n",
       "      <td>...</td>\n",
       "      <td>...</td>\n",
       "      <td>...</td>\n",
       "      <td>...</td>\n",
       "      <td>...</td>\n",
       "    </tr>\n",
       "    <tr>\n",
       "      <th>2351</th>\n",
       "      <td>666049248165822465</td>\n",
       "      <td>2015-11-16 00:24:50+00:00</td>\n",
       "      <td>&lt;a href=\"http://twitter.com/download/iphone\" r...</td>\n",
       "      <td>Here we have a 1949 1st generation vulpix. Enj...</td>\n",
       "      <td>https://twitter.com/dog_rates/status/666049248...</td>\n",
       "      <td>5</td>\n",
       "      <td>10</td>\n",
       "      <td>None</td>\n",
       "      <td>None</td>\n",
       "      <td>None</td>\n",
       "      <td>None</td>\n",
       "      <td>None</td>\n",
       "    </tr>\n",
       "    <tr>\n",
       "      <th>2352</th>\n",
       "      <td>666044226329800704</td>\n",
       "      <td>2015-11-16 00:04:52+00:00</td>\n",
       "      <td>&lt;a href=\"http://twitter.com/download/iphone\" r...</td>\n",
       "      <td>This is a purebred Piers Morgan. Loves to Netf...</td>\n",
       "      <td>https://twitter.com/dog_rates/status/666044226...</td>\n",
       "      <td>6</td>\n",
       "      <td>10</td>\n",
       "      <td>a</td>\n",
       "      <td>None</td>\n",
       "      <td>None</td>\n",
       "      <td>None</td>\n",
       "      <td>None</td>\n",
       "    </tr>\n",
       "    <tr>\n",
       "      <th>2353</th>\n",
       "      <td>666033412701032449</td>\n",
       "      <td>2015-11-15 23:21:54+00:00</td>\n",
       "      <td>&lt;a href=\"http://twitter.com/download/iphone\" r...</td>\n",
       "      <td>Here is a very happy pup. Big fan of well-main...</td>\n",
       "      <td>https://twitter.com/dog_rates/status/666033412...</td>\n",
       "      <td>9</td>\n",
       "      <td>10</td>\n",
       "      <td>a</td>\n",
       "      <td>None</td>\n",
       "      <td>None</td>\n",
       "      <td>None</td>\n",
       "      <td>None</td>\n",
       "    </tr>\n",
       "    <tr>\n",
       "      <th>2354</th>\n",
       "      <td>666029285002620928</td>\n",
       "      <td>2015-11-15 23:05:30+00:00</td>\n",
       "      <td>&lt;a href=\"http://twitter.com/download/iphone\" r...</td>\n",
       "      <td>This is a western brown Mitsubishi terrier. Up...</td>\n",
       "      <td>https://twitter.com/dog_rates/status/666029285...</td>\n",
       "      <td>7</td>\n",
       "      <td>10</td>\n",
       "      <td>a</td>\n",
       "      <td>None</td>\n",
       "      <td>None</td>\n",
       "      <td>None</td>\n",
       "      <td>None</td>\n",
       "    </tr>\n",
       "    <tr>\n",
       "      <th>2355</th>\n",
       "      <td>666020888022790149</td>\n",
       "      <td>2015-11-15 22:32:08+00:00</td>\n",
       "      <td>&lt;a href=\"http://twitter.com/download/iphone\" r...</td>\n",
       "      <td>Here we have a Japanese Irish Setter. Lost eye...</td>\n",
       "      <td>https://twitter.com/dog_rates/status/666020888...</td>\n",
       "      <td>8</td>\n",
       "      <td>10</td>\n",
       "      <td>None</td>\n",
       "      <td>None</td>\n",
       "      <td>None</td>\n",
       "      <td>None</td>\n",
       "      <td>None</td>\n",
       "    </tr>\n",
       "  </tbody>\n",
       "</table>\n",
       "<p>2117 rows × 12 columns</p>\n",
       "</div>"
      ],
      "text/plain": [
       "                tweet_id                created_at  \\\n",
       "0     892420643555336193 2017-08-01 16:23:56+00:00   \n",
       "1     892177421306343426 2017-08-01 00:17:27+00:00   \n",
       "2     891815181378084864 2017-07-31 00:18:03+00:00   \n",
       "3     891689557279858688 2017-07-30 15:58:51+00:00   \n",
       "4     891327558926688256 2017-07-29 16:00:24+00:00   \n",
       "...                  ...                       ...   \n",
       "2351  666049248165822465 2015-11-16 00:24:50+00:00   \n",
       "2352  666044226329800704 2015-11-16 00:04:52+00:00   \n",
       "2353  666033412701032449 2015-11-15 23:21:54+00:00   \n",
       "2354  666029285002620928 2015-11-15 23:05:30+00:00   \n",
       "2355  666020888022790149 2015-11-15 22:32:08+00:00   \n",
       "\n",
       "                                                 source  \\\n",
       "0     <a href=\"http://twitter.com/download/iphone\" r...   \n",
       "1     <a href=\"http://twitter.com/download/iphone\" r...   \n",
       "2     <a href=\"http://twitter.com/download/iphone\" r...   \n",
       "3     <a href=\"http://twitter.com/download/iphone\" r...   \n",
       "4     <a href=\"http://twitter.com/download/iphone\" r...   \n",
       "...                                                 ...   \n",
       "2351  <a href=\"http://twitter.com/download/iphone\" r...   \n",
       "2352  <a href=\"http://twitter.com/download/iphone\" r...   \n",
       "2353  <a href=\"http://twitter.com/download/iphone\" r...   \n",
       "2354  <a href=\"http://twitter.com/download/iphone\" r...   \n",
       "2355  <a href=\"http://twitter.com/download/iphone\" r...   \n",
       "\n",
       "                                              full_text  \\\n",
       "0     This is Phineas. He's a mystical boy. Only eve...   \n",
       "1     This is Tilly. She's just checking pup on you....   \n",
       "2     This is Archie. He is a rare Norwegian Pouncin...   \n",
       "3     This is Darla. She commenced a snooze mid meal...   \n",
       "4     This is Franklin. He would like you to stop ca...   \n",
       "...                                                 ...   \n",
       "2351  Here we have a 1949 1st generation vulpix. Enj...   \n",
       "2352  This is a purebred Piers Morgan. Loves to Netf...   \n",
       "2353  Here is a very happy pup. Big fan of well-main...   \n",
       "2354  This is a western brown Mitsubishi terrier. Up...   \n",
       "2355  Here we have a Japanese Irish Setter. Lost eye...   \n",
       "\n",
       "                                          expanded_urls  rating_numerator  \\\n",
       "0     https://twitter.com/dog_rates/status/892420643...                13   \n",
       "1     https://twitter.com/dog_rates/status/892177421...                13   \n",
       "2     https://twitter.com/dog_rates/status/891815181...                12   \n",
       "3     https://twitter.com/dog_rates/status/891689557...                13   \n",
       "4     https://twitter.com/dog_rates/status/891327558...                12   \n",
       "...                                                 ...               ...   \n",
       "2351  https://twitter.com/dog_rates/status/666049248...                 5   \n",
       "2352  https://twitter.com/dog_rates/status/666044226...                 6   \n",
       "2353  https://twitter.com/dog_rates/status/666033412...                 9   \n",
       "2354  https://twitter.com/dog_rates/status/666029285...                 7   \n",
       "2355  https://twitter.com/dog_rates/status/666020888...                 8   \n",
       "\n",
       "      rating_denominator      name doggo floofer pupper puppo  \n",
       "0                     10   Phineas  None    None   None  None  \n",
       "1                     10     Tilly  None    None   None  None  \n",
       "2                     10    Archie  None    None   None  None  \n",
       "3                     10     Darla  None    None   None  None  \n",
       "4                     10  Franklin  None    None   None  None  \n",
       "...                  ...       ...   ...     ...    ...   ...  \n",
       "2351                  10      None  None    None   None  None  \n",
       "2352                  10         a  None    None   None  None  \n",
       "2353                  10         a  None    None   None  None  \n",
       "2354                  10         a  None    None   None  None  \n",
       "2355                  10      None  None    None   None  None  \n",
       "\n",
       "[2117 rows x 12 columns]"
      ]
     },
     "execution_count": 39,
     "metadata": {},
     "output_type": "execute_result"
    }
   ],
   "source": [
    "med = med.rename(columns={'text': 'full_text',\n",
    "                         'timestamp': 'created_at'})\n",
    "med"
   ]
  },
  {
   "cell_type": "code",
   "execution_count": 40,
   "id": "97b8ad65-2889-4e1c-910b-f30820601ce1",
   "metadata": {},
   "outputs": [],
   "source": [
    "api_twitter_clean = api_twitter_clean[['tweet_id', 'retweet_count', 'favorite_count']]"
   ]
  },
  {
   "cell_type": "code",
   "execution_count": 41,
   "id": "3e4c0277-bd49-4731-b94d-3f689b1ae3d6",
   "metadata": {},
   "outputs": [
    {
     "data": {
      "text/html": [
       "<div>\n",
       "<style scoped>\n",
       "    .dataframe tbody tr th:only-of-type {\n",
       "        vertical-align: middle;\n",
       "    }\n",
       "\n",
       "    .dataframe tbody tr th {\n",
       "        vertical-align: top;\n",
       "    }\n",
       "\n",
       "    .dataframe thead th {\n",
       "        text-align: right;\n",
       "    }\n",
       "</style>\n",
       "<table border=\"1\" class=\"dataframe\">\n",
       "  <thead>\n",
       "    <tr style=\"text-align: right;\">\n",
       "      <th></th>\n",
       "      <th>tweet_id</th>\n",
       "      <th>created_at</th>\n",
       "      <th>source</th>\n",
       "      <th>full_text</th>\n",
       "      <th>expanded_urls</th>\n",
       "      <th>rating_numerator</th>\n",
       "      <th>rating_denominator</th>\n",
       "      <th>name</th>\n",
       "      <th>doggo</th>\n",
       "      <th>floofer</th>\n",
       "      <th>...</th>\n",
       "      <th>img_num</th>\n",
       "      <th>p1</th>\n",
       "      <th>p1_conf</th>\n",
       "      <th>p1_dog</th>\n",
       "      <th>p2</th>\n",
       "      <th>p2_conf</th>\n",
       "      <th>p2_dog</th>\n",
       "      <th>p3</th>\n",
       "      <th>p3_conf</th>\n",
       "      <th>p3_dog</th>\n",
       "    </tr>\n",
       "  </thead>\n",
       "  <tbody>\n",
       "    <tr>\n",
       "      <th>0</th>\n",
       "      <td>892420643555336193</td>\n",
       "      <td>2017-08-01 16:23:56+00:00</td>\n",
       "      <td>&lt;a href=\"http://twitter.com/download/iphone\" r...</td>\n",
       "      <td>This is Phineas. He's a mystical boy. Only eve...</td>\n",
       "      <td>https://twitter.com/dog_rates/status/892420643...</td>\n",
       "      <td>13</td>\n",
       "      <td>10</td>\n",
       "      <td>Phineas</td>\n",
       "      <td>None</td>\n",
       "      <td>None</td>\n",
       "      <td>...</td>\n",
       "      <td>1</td>\n",
       "      <td>orange</td>\n",
       "      <td>0.097049</td>\n",
       "      <td>False</td>\n",
       "      <td>bagel</td>\n",
       "      <td>0.085851</td>\n",
       "      <td>False</td>\n",
       "      <td>banana</td>\n",
       "      <td>0.076110</td>\n",
       "      <td>False</td>\n",
       "    </tr>\n",
       "    <tr>\n",
       "      <th>1</th>\n",
       "      <td>892177421306343426</td>\n",
       "      <td>2017-08-01 00:17:27+00:00</td>\n",
       "      <td>&lt;a href=\"http://twitter.com/download/iphone\" r...</td>\n",
       "      <td>This is Tilly. She's just checking pup on you....</td>\n",
       "      <td>https://twitter.com/dog_rates/status/892177421...</td>\n",
       "      <td>13</td>\n",
       "      <td>10</td>\n",
       "      <td>Tilly</td>\n",
       "      <td>None</td>\n",
       "      <td>None</td>\n",
       "      <td>...</td>\n",
       "      <td>1</td>\n",
       "      <td>Chihuahua</td>\n",
       "      <td>0.323581</td>\n",
       "      <td>True</td>\n",
       "      <td>Pekinese</td>\n",
       "      <td>0.090647</td>\n",
       "      <td>True</td>\n",
       "      <td>papillon</td>\n",
       "      <td>0.068957</td>\n",
       "      <td>True</td>\n",
       "    </tr>\n",
       "    <tr>\n",
       "      <th>2</th>\n",
       "      <td>891815181378084864</td>\n",
       "      <td>2017-07-31 00:18:03+00:00</td>\n",
       "      <td>&lt;a href=\"http://twitter.com/download/iphone\" r...</td>\n",
       "      <td>This is Archie. He is a rare Norwegian Pouncin...</td>\n",
       "      <td>https://twitter.com/dog_rates/status/891815181...</td>\n",
       "      <td>12</td>\n",
       "      <td>10</td>\n",
       "      <td>Archie</td>\n",
       "      <td>None</td>\n",
       "      <td>None</td>\n",
       "      <td>...</td>\n",
       "      <td>1</td>\n",
       "      <td>Chihuahua</td>\n",
       "      <td>0.716012</td>\n",
       "      <td>True</td>\n",
       "      <td>malamute</td>\n",
       "      <td>0.078253</td>\n",
       "      <td>True</td>\n",
       "      <td>kelpie</td>\n",
       "      <td>0.031379</td>\n",
       "      <td>True</td>\n",
       "    </tr>\n",
       "    <tr>\n",
       "      <th>3</th>\n",
       "      <td>891689557279858688</td>\n",
       "      <td>2017-07-30 15:58:51+00:00</td>\n",
       "      <td>&lt;a href=\"http://twitter.com/download/iphone\" r...</td>\n",
       "      <td>This is Darla. She commenced a snooze mid meal...</td>\n",
       "      <td>https://twitter.com/dog_rates/status/891689557...</td>\n",
       "      <td>13</td>\n",
       "      <td>10</td>\n",
       "      <td>Darla</td>\n",
       "      <td>None</td>\n",
       "      <td>None</td>\n",
       "      <td>...</td>\n",
       "      <td>1</td>\n",
       "      <td>paper_towel</td>\n",
       "      <td>0.170278</td>\n",
       "      <td>False</td>\n",
       "      <td>Labrador_retriever</td>\n",
       "      <td>0.168086</td>\n",
       "      <td>True</td>\n",
       "      <td>spatula</td>\n",
       "      <td>0.040836</td>\n",
       "      <td>False</td>\n",
       "    </tr>\n",
       "    <tr>\n",
       "      <th>4</th>\n",
       "      <td>891327558926688256</td>\n",
       "      <td>2017-07-29 16:00:24+00:00</td>\n",
       "      <td>&lt;a href=\"http://twitter.com/download/iphone\" r...</td>\n",
       "      <td>This is Franklin. He would like you to stop ca...</td>\n",
       "      <td>https://twitter.com/dog_rates/status/891327558...</td>\n",
       "      <td>12</td>\n",
       "      <td>10</td>\n",
       "      <td>Franklin</td>\n",
       "      <td>None</td>\n",
       "      <td>None</td>\n",
       "      <td>...</td>\n",
       "      <td>2</td>\n",
       "      <td>basset</td>\n",
       "      <td>0.555712</td>\n",
       "      <td>True</td>\n",
       "      <td>English_springer</td>\n",
       "      <td>0.225770</td>\n",
       "      <td>True</td>\n",
       "      <td>German_short-haired_pointer</td>\n",
       "      <td>0.175219</td>\n",
       "      <td>True</td>\n",
       "    </tr>\n",
       "    <tr>\n",
       "      <th>...</th>\n",
       "      <td>...</td>\n",
       "      <td>...</td>\n",
       "      <td>...</td>\n",
       "      <td>...</td>\n",
       "      <td>...</td>\n",
       "      <td>...</td>\n",
       "      <td>...</td>\n",
       "      <td>...</td>\n",
       "      <td>...</td>\n",
       "      <td>...</td>\n",
       "      <td>...</td>\n",
       "      <td>...</td>\n",
       "      <td>...</td>\n",
       "      <td>...</td>\n",
       "      <td>...</td>\n",
       "      <td>...</td>\n",
       "      <td>...</td>\n",
       "      <td>...</td>\n",
       "      <td>...</td>\n",
       "      <td>...</td>\n",
       "      <td>...</td>\n",
       "    </tr>\n",
       "    <tr>\n",
       "      <th>1989</th>\n",
       "      <td>666049248165822465</td>\n",
       "      <td>2015-11-16 00:24:50+00:00</td>\n",
       "      <td>&lt;a href=\"http://twitter.com/download/iphone\" r...</td>\n",
       "      <td>Here we have a 1949 1st generation vulpix. Enj...</td>\n",
       "      <td>https://twitter.com/dog_rates/status/666049248...</td>\n",
       "      <td>5</td>\n",
       "      <td>10</td>\n",
       "      <td>None</td>\n",
       "      <td>None</td>\n",
       "      <td>None</td>\n",
       "      <td>...</td>\n",
       "      <td>1</td>\n",
       "      <td>miniature_pinscher</td>\n",
       "      <td>0.560311</td>\n",
       "      <td>True</td>\n",
       "      <td>Rottweiler</td>\n",
       "      <td>0.243682</td>\n",
       "      <td>True</td>\n",
       "      <td>Doberman</td>\n",
       "      <td>0.154629</td>\n",
       "      <td>True</td>\n",
       "    </tr>\n",
       "    <tr>\n",
       "      <th>1990</th>\n",
       "      <td>666044226329800704</td>\n",
       "      <td>2015-11-16 00:04:52+00:00</td>\n",
       "      <td>&lt;a href=\"http://twitter.com/download/iphone\" r...</td>\n",
       "      <td>This is a purebred Piers Morgan. Loves to Netf...</td>\n",
       "      <td>https://twitter.com/dog_rates/status/666044226...</td>\n",
       "      <td>6</td>\n",
       "      <td>10</td>\n",
       "      <td>a</td>\n",
       "      <td>None</td>\n",
       "      <td>None</td>\n",
       "      <td>...</td>\n",
       "      <td>1</td>\n",
       "      <td>Rhodesian_ridgeback</td>\n",
       "      <td>0.408143</td>\n",
       "      <td>True</td>\n",
       "      <td>redbone</td>\n",
       "      <td>0.360687</td>\n",
       "      <td>True</td>\n",
       "      <td>miniature_pinscher</td>\n",
       "      <td>0.222752</td>\n",
       "      <td>True</td>\n",
       "    </tr>\n",
       "    <tr>\n",
       "      <th>1991</th>\n",
       "      <td>666033412701032449</td>\n",
       "      <td>2015-11-15 23:21:54+00:00</td>\n",
       "      <td>&lt;a href=\"http://twitter.com/download/iphone\" r...</td>\n",
       "      <td>Here is a very happy pup. Big fan of well-main...</td>\n",
       "      <td>https://twitter.com/dog_rates/status/666033412...</td>\n",
       "      <td>9</td>\n",
       "      <td>10</td>\n",
       "      <td>a</td>\n",
       "      <td>None</td>\n",
       "      <td>None</td>\n",
       "      <td>...</td>\n",
       "      <td>1</td>\n",
       "      <td>German_shepherd</td>\n",
       "      <td>0.596461</td>\n",
       "      <td>True</td>\n",
       "      <td>malinois</td>\n",
       "      <td>0.138584</td>\n",
       "      <td>True</td>\n",
       "      <td>bloodhound</td>\n",
       "      <td>0.116197</td>\n",
       "      <td>True</td>\n",
       "    </tr>\n",
       "    <tr>\n",
       "      <th>1992</th>\n",
       "      <td>666029285002620928</td>\n",
       "      <td>2015-11-15 23:05:30+00:00</td>\n",
       "      <td>&lt;a href=\"http://twitter.com/download/iphone\" r...</td>\n",
       "      <td>This is a western brown Mitsubishi terrier. Up...</td>\n",
       "      <td>https://twitter.com/dog_rates/status/666029285...</td>\n",
       "      <td>7</td>\n",
       "      <td>10</td>\n",
       "      <td>a</td>\n",
       "      <td>None</td>\n",
       "      <td>None</td>\n",
       "      <td>...</td>\n",
       "      <td>1</td>\n",
       "      <td>redbone</td>\n",
       "      <td>0.506826</td>\n",
       "      <td>True</td>\n",
       "      <td>miniature_pinscher</td>\n",
       "      <td>0.074192</td>\n",
       "      <td>True</td>\n",
       "      <td>Rhodesian_ridgeback</td>\n",
       "      <td>0.072010</td>\n",
       "      <td>True</td>\n",
       "    </tr>\n",
       "    <tr>\n",
       "      <th>1993</th>\n",
       "      <td>666020888022790149</td>\n",
       "      <td>2015-11-15 22:32:08+00:00</td>\n",
       "      <td>&lt;a href=\"http://twitter.com/download/iphone\" r...</td>\n",
       "      <td>Here we have a Japanese Irish Setter. Lost eye...</td>\n",
       "      <td>https://twitter.com/dog_rates/status/666020888...</td>\n",
       "      <td>8</td>\n",
       "      <td>10</td>\n",
       "      <td>None</td>\n",
       "      <td>None</td>\n",
       "      <td>None</td>\n",
       "      <td>...</td>\n",
       "      <td>1</td>\n",
       "      <td>Welsh_springer_spaniel</td>\n",
       "      <td>0.465074</td>\n",
       "      <td>True</td>\n",
       "      <td>collie</td>\n",
       "      <td>0.156665</td>\n",
       "      <td>True</td>\n",
       "      <td>Shetland_sheepdog</td>\n",
       "      <td>0.061428</td>\n",
       "      <td>True</td>\n",
       "    </tr>\n",
       "  </tbody>\n",
       "</table>\n",
       "<p>1994 rows × 25 columns</p>\n",
       "</div>"
      ],
      "text/plain": [
       "                tweet_id                created_at  \\\n",
       "0     892420643555336193 2017-08-01 16:23:56+00:00   \n",
       "1     892177421306343426 2017-08-01 00:17:27+00:00   \n",
       "2     891815181378084864 2017-07-31 00:18:03+00:00   \n",
       "3     891689557279858688 2017-07-30 15:58:51+00:00   \n",
       "4     891327558926688256 2017-07-29 16:00:24+00:00   \n",
       "...                  ...                       ...   \n",
       "1989  666049248165822465 2015-11-16 00:24:50+00:00   \n",
       "1990  666044226329800704 2015-11-16 00:04:52+00:00   \n",
       "1991  666033412701032449 2015-11-15 23:21:54+00:00   \n",
       "1992  666029285002620928 2015-11-15 23:05:30+00:00   \n",
       "1993  666020888022790149 2015-11-15 22:32:08+00:00   \n",
       "\n",
       "                                                 source  \\\n",
       "0     <a href=\"http://twitter.com/download/iphone\" r...   \n",
       "1     <a href=\"http://twitter.com/download/iphone\" r...   \n",
       "2     <a href=\"http://twitter.com/download/iphone\" r...   \n",
       "3     <a href=\"http://twitter.com/download/iphone\" r...   \n",
       "4     <a href=\"http://twitter.com/download/iphone\" r...   \n",
       "...                                                 ...   \n",
       "1989  <a href=\"http://twitter.com/download/iphone\" r...   \n",
       "1990  <a href=\"http://twitter.com/download/iphone\" r...   \n",
       "1991  <a href=\"http://twitter.com/download/iphone\" r...   \n",
       "1992  <a href=\"http://twitter.com/download/iphone\" r...   \n",
       "1993  <a href=\"http://twitter.com/download/iphone\" r...   \n",
       "\n",
       "                                              full_text  \\\n",
       "0     This is Phineas. He's a mystical boy. Only eve...   \n",
       "1     This is Tilly. She's just checking pup on you....   \n",
       "2     This is Archie. He is a rare Norwegian Pouncin...   \n",
       "3     This is Darla. She commenced a snooze mid meal...   \n",
       "4     This is Franklin. He would like you to stop ca...   \n",
       "...                                                 ...   \n",
       "1989  Here we have a 1949 1st generation vulpix. Enj...   \n",
       "1990  This is a purebred Piers Morgan. Loves to Netf...   \n",
       "1991  Here is a very happy pup. Big fan of well-main...   \n",
       "1992  This is a western brown Mitsubishi terrier. Up...   \n",
       "1993  Here we have a Japanese Irish Setter. Lost eye...   \n",
       "\n",
       "                                          expanded_urls  rating_numerator  \\\n",
       "0     https://twitter.com/dog_rates/status/892420643...                13   \n",
       "1     https://twitter.com/dog_rates/status/892177421...                13   \n",
       "2     https://twitter.com/dog_rates/status/891815181...                12   \n",
       "3     https://twitter.com/dog_rates/status/891689557...                13   \n",
       "4     https://twitter.com/dog_rates/status/891327558...                12   \n",
       "...                                                 ...               ...   \n",
       "1989  https://twitter.com/dog_rates/status/666049248...                 5   \n",
       "1990  https://twitter.com/dog_rates/status/666044226...                 6   \n",
       "1991  https://twitter.com/dog_rates/status/666033412...                 9   \n",
       "1992  https://twitter.com/dog_rates/status/666029285...                 7   \n",
       "1993  https://twitter.com/dog_rates/status/666020888...                 8   \n",
       "\n",
       "      rating_denominator      name doggo floofer  ... img_num  \\\n",
       "0                     10   Phineas  None    None  ...       1   \n",
       "1                     10     Tilly  None    None  ...       1   \n",
       "2                     10    Archie  None    None  ...       1   \n",
       "3                     10     Darla  None    None  ...       1   \n",
       "4                     10  Franklin  None    None  ...       2   \n",
       "...                  ...       ...   ...     ...  ...     ...   \n",
       "1989                  10      None  None    None  ...       1   \n",
       "1990                  10         a  None    None  ...       1   \n",
       "1991                  10         a  None    None  ...       1   \n",
       "1992                  10         a  None    None  ...       1   \n",
       "1993                  10      None  None    None  ...       1   \n",
       "\n",
       "                          p1   p1_conf  p1_dog                  p2   p2_conf  \\\n",
       "0                     orange  0.097049   False               bagel  0.085851   \n",
       "1                  Chihuahua  0.323581    True            Pekinese  0.090647   \n",
       "2                  Chihuahua  0.716012    True            malamute  0.078253   \n",
       "3                paper_towel  0.170278   False  Labrador_retriever  0.168086   \n",
       "4                     basset  0.555712    True    English_springer  0.225770   \n",
       "...                      ...       ...     ...                 ...       ...   \n",
       "1989      miniature_pinscher  0.560311    True          Rottweiler  0.243682   \n",
       "1990     Rhodesian_ridgeback  0.408143    True             redbone  0.360687   \n",
       "1991         German_shepherd  0.596461    True            malinois  0.138584   \n",
       "1992                 redbone  0.506826    True  miniature_pinscher  0.074192   \n",
       "1993  Welsh_springer_spaniel  0.465074    True              collie  0.156665   \n",
       "\n",
       "     p2_dog                           p3   p3_conf p3_dog  \n",
       "0     False                       banana  0.076110  False  \n",
       "1      True                     papillon  0.068957   True  \n",
       "2      True                       kelpie  0.031379   True  \n",
       "3      True                      spatula  0.040836  False  \n",
       "4      True  German_short-haired_pointer  0.175219   True  \n",
       "...     ...                          ...       ...    ...  \n",
       "1989   True                     Doberman  0.154629   True  \n",
       "1990   True           miniature_pinscher  0.222752   True  \n",
       "1991   True                   bloodhound  0.116197   True  \n",
       "1992   True          Rhodesian_ridgeback  0.072010   True  \n",
       "1993   True            Shetland_sheepdog  0.061428   True  \n",
       "\n",
       "[1994 rows x 25 columns]"
      ]
     },
     "execution_count": 41,
     "metadata": {},
     "output_type": "execute_result"
    }
   ],
   "source": [
    "mast = pd.merge(left=med,\n",
    "               right=api_twitter_clean,\n",
    "               how='inner',\n",
    "               on='tweet_id',\n",
    "               suffixes=('_x', '_y'))\n",
    "mast\n",
    "mast = pd.merge(left=mast,\n",
    "               right=image_predictions,\n",
    "               how='inner',\n",
    "               on='tweet_id',\n",
    "               suffixes=('_x', '_y'))\n",
    "mast"
   ]
  },
  {
   "cell_type": "code",
   "execution_count": 42,
   "id": "1f9131ef-5b6e-4e64-b689-355998ff9251",
   "metadata": {},
   "outputs": [],
   "source": [
    "master_twitter_archive = mast"
   ]
  },
  {
   "cell_type": "markdown",
   "id": "33b90fe8-3e30-46e7-ac03-e628eaa0d6ee",
   "metadata": {},
   "source": [
    "## Storing Data\n",
    "Save gathered, assessed, and cleaned master dataset to a CSV file named \"twitter_archive_master.csv\"."
   ]
  },
  {
   "cell_type": "code",
   "execution_count": 43,
   "id": "bb83478a-1a22-4670-9d9a-ec95c294c4e6",
   "metadata": {},
   "outputs": [],
   "source": [
    "master_twitter_archive.to_csv('twitter_archive_master.csv', index=False)"
   ]
  },
  {
   "cell_type": "markdown",
   "id": "952644b6-1399-460e-b22a-85900db7cfbc",
   "metadata": {},
   "source": [
    "## Analyzing and Visualizing Data\n",
    "In this section, analyze and visualize your wrangled data. You must produce at least **three (3) insights and one (1) visualization.**"
   ]
  },
  {
   "cell_type": "markdown",
   "id": "cc537bdb-37f3-4c2f-9fa3-e71303a2f151",
   "metadata": {},
   "source": [
    "### Insights:\n",
    "1.There are more tweets from Iphone than other platforms.\n",
    "\n",
    "2.The most used rating numerator note is `12`.\n",
    "\n",
    "3.There is a high correlation between `retweet_count` and `favorite_count`"
   ]
  },
  {
   "cell_type": "markdown",
   "id": "89e82583-3a39-4842-8843-4a726c6c45c7",
   "metadata": {},
   "source": [
    "### Visualization"
   ]
  },
  {
   "cell_type": "code",
   "execution_count": 44,
   "id": "4197096d-c1f8-487b-8ad5-edaf99e56831",
   "metadata": {
    "tags": []
   },
   "outputs": [
    {
     "data": {
      "image/png": "[encoded data removed]",
      "text/plain": [
       "<Figure size 720x720 with 1 Axes>"
      ]
     },
     "metadata": {
      "needs_background": "light"
     },
     "output_type": "display_data"
    }
   ],
   "source": [
    "master_twitter_archive.source.value_counts().plot(kind='barh',\n",
    "                                                  figsize=(10, 10),\n",
    "                                                  title='Most used Platform for tweets',\n",
    "                                                 fontsize=20);"
   ]
  },
  {
   "cell_type": "raw",
   "id": "6a2edc2f-4836-450d-86c1-c9c4d97486a4",
   "metadata": {},
   "source": [
    "There are more tweets from Iphone than other platforms."
   ]
  },
  {
   "cell_type": "code",
   "execution_count": 45,
   "id": "6a8893ff-300c-4564-b417-5b7bb0fc8f22",
   "metadata": {},
   "outputs": [
    {
     "data": {
      "image/png": "[encoded data removed]",
      "text/plain": [
       "<Figure size 1008x1080 with 1 Axes>"
      ]
     },
     "metadata": {
      "needs_background": "light"
     },
     "output_type": "display_data"
    }
   ],
   "source": [
    "master_twitter_archive.rating_numerator.value_counts().nlargest(15).plot(kind='barh',\n",
    "                                                                         figsize=(14, 15),\n",
    "                                                                         title='Most used note for rating numerator');"
   ]
  },
  {
   "cell_type": "markdown",
   "id": "7343853d-9706-421d-a5dd-90ce912b917f",
   "metadata": {},
   "source": [
    "The most used rating numerator note is `12`."
   ]
  },
  {
   "cell_type": "code",
   "execution_count": 46,
   "id": "95e65532-c388-4012-8624-6c876c50203c",
   "metadata": {},
   "outputs": [
    {
     "data": {
      "image/png": "[encoded data removed]",
      "text/plain": [
       "<Figure size 1080x1080 with 1 Axes>"
      ]
     },
     "metadata": {},
     "output_type": "display_data"
    }
   ],
   "source": [
    "master_twitter_archive.created_at.dt.month_name().value_counts().plot(kind='pie',\n",
    "                                                                     figsize=(15, 15),\n",
    "                                                                     title='Number of tweets per mont overall time',\n",
    "                                                                     fontsize=20);"
   ]
  },
  {
   "cell_type": "markdown",
   "id": "5b9233e5-a1d4-4597-8145-140d9a7329b3",
   "metadata": {},
   "source": [
    "Most of the tweets have been made in `December`, `November` and `January`."
   ]
  },
  {
   "cell_type": "code",
   "execution_count": 47,
   "id": "7c572415-fec0-422e-810c-c249f0a3f4fa",
   "metadata": {},
   "outputs": [
    {
     "data": {
      "text/html": [
       "<div>\n",
       "<style scoped>\n",
       "    .dataframe tbody tr th:only-of-type {\n",
       "        vertical-align: middle;\n",
       "    }\n",
       "\n",
       "    .dataframe tbody tr th {\n",
       "        vertical-align: top;\n",
       "    }\n",
       "\n",
       "    .dataframe thead th {\n",
       "        text-align: right;\n",
       "    }\n",
       "</style>\n",
       "<table border=\"1\" class=\"dataframe\">\n",
       "  <thead>\n",
       "    <tr style=\"text-align: right;\">\n",
       "      <th></th>\n",
       "      <th>retweet_count</th>\n",
       "      <th>favorite_count</th>\n",
       "    </tr>\n",
       "  </thead>\n",
       "  <tbody>\n",
       "    <tr>\n",
       "      <th>retweet_count</th>\n",
       "      <td>1.000000</td>\n",
       "      <td>0.912947</td>\n",
       "    </tr>\n",
       "    <tr>\n",
       "      <th>favorite_count</th>\n",
       "      <td>0.912947</td>\n",
       "      <td>1.000000</td>\n",
       "    </tr>\n",
       "  </tbody>\n",
       "</table>\n",
       "</div>"
      ],
      "text/plain": [
       "                retweet_count  favorite_count\n",
       "retweet_count        1.000000        0.912947\n",
       "favorite_count       0.912947        1.000000"
      ]
     },
     "execution_count": 47,
     "metadata": {},
     "output_type": "execute_result"
    }
   ],
   "source": [
    "master_twitter_archive[['retweet_count', 'favorite_count']].corr()"
   ]
  },
  {
   "cell_type": "code",
   "execution_count": 48,
   "id": "4a480edd-ed5c-4972-a296-9c520b97af6b",
   "metadata": {},
   "outputs": [
    {
     "data": {
      "image/png": "[encoded data removed]",
      "text/plain": [
       "<Figure size 432x288 with 2 Axes>"
      ]
     },
     "metadata": {
      "needs_background": "light"
     },
     "output_type": "display_data"
    }
   ],
   "source": [
    "sns.heatmap(data=master_twitter_archive[['retweet_count', 'favorite_count']].corr(),\n",
    "           annot=True);"
   ]
  },
  {
   "cell_type": "markdown",
   "id": "170d2fbf-e438-456a-afd8-a937af229347",
   "metadata": {},
   "source": [
    "There is a high correlation between `retweet_count` and `favorite_count`"
   ]
  },
  {
   "cell_type": "code",
   "execution_count": null,
   "id": "cf69e7b7-0b26-4f6b-b013-7e1120e6778f",
   "metadata": {},
   "outputs": [],
   "source": []
  }
 ],
 "metadata": {
  "kernelspec": {
   "display_name": "Python 3 (ipykernel)",
   "language": "python",
   "name": "python3"
  },
  "language_info": {
   "codemirror_mode": {
    "name": "ipython",
    "version": 3
   },
   "file_extension": ".py",
   "mimetype": "text/x-python",
   "name": "python",
   "nbconvert_exporter": "python",
   "pygments_lexer": "ipython3",
   "version": "3.10.4"
  },
  "toc-autonumbering": false,
  "toc-showcode": false,
  "toc-showmarkdowntxt": false,
  "toc-showtags": false
 },
 "nbformat": 4,
 "nbformat_minor": 5
}
